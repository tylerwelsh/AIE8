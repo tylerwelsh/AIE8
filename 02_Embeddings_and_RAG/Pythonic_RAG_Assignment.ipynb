{
  "cells": [
    {
      "cell_type": "markdown",
      "metadata": {
        "id": "lElF3o5PR6ys"
      },
      "source": [
        "# Your First RAG Application\n",
        "\n",
        "In this notebook, we'll walk you through each of the components that are involved in a simple RAG application.\n",
        "\n",
        "We won't be leveraging any fancy tools, just the OpenAI Python SDK, Numpy, and some classic Python.\n",
        "\n",
        "> NOTE: This was done with Python 3.12.3.\n",
        "\n",
        "> NOTE: There might be [compatibility issues](https://github.com/wandb/wandb/issues/7683) if you're on NVIDIA driver >552.44 As an interim solution - you can rollback your drivers to the 552.44."
      ]
    },
    {
      "cell_type": "markdown",
      "metadata": {
        "id": "5CtcL8P8R6yt"
      },
      "source": [
        "## Table of Contents:\n",
        "\n",
        "- Task 1: Imports and Utilities\n",
        "- Task 2: Documents\n",
        "- Task 3: Embeddings and Vectors\n",
        "- Task 4: Prompts\n",
        "- Task 5: Retrieval Augmented Generation\n",
        "  - 🚧 Activity #1: Augment RAG"
      ]
    },
    {
      "cell_type": "markdown",
      "metadata": {
        "id": "1Dz6GYilR6yt"
      },
      "source": [
        "Let's look at a rather complicated looking visual representation of a basic RAG application.\n",
        "\n",
        "<img src=\"https://i.imgur.com/vD8b016.png\" />"
      ]
    },
    {
      "cell_type": "markdown",
      "metadata": {
        "id": "PjmC0KFtR6yt"
      },
      "source": [
        "## Task 1: Imports and Utility\n",
        "\n",
        "We're just doing some imports and enabling `async` to work within the Jupyter environment here, nothing too crazy!"
      ]
    },
    {
      "cell_type": "code",
      "execution_count": 1,
      "metadata": {
        "id": "Z1dyrG4hR6yt"
      },
      "outputs": [],
      "source": [
        "from aimakerspace.text_utils import TextFileLoader, CharacterTextSplitter\n",
        "from aimakerspace.vectordatabase import VectorDatabase\n",
        "import asyncio"
      ]
    },
    {
      "cell_type": "code",
      "execution_count": 2,
      "metadata": {
        "id": "9OrFZRnER6yt"
      },
      "outputs": [],
      "source": [
        "import nest_asyncio\n",
        "nest_asyncio.apply()"
      ]
    },
    {
      "cell_type": "markdown",
      "metadata": {
        "id": "M0jGnpQsR6yu"
      },
      "source": [
        "## Task 2: Documents\n",
        "\n",
        "We'll be concerning ourselves with this part of the flow in the following section:\n",
        "\n",
        "<img src=\"https://i.imgur.com/jTm9gjk.png\" />"
      ]
    },
    {
      "cell_type": "markdown",
      "metadata": {
        "id": "-SFPWvRUR6yu"
      },
      "source": [
        "### Loading Source Documents\n",
        "\n",
        "So, first things first, we need some documents to work with.\n",
        "\n",
        "While we could work directly with the `.txt` files (or whatever file-types you wanted to extend this to) we can instead do some batch processing of those documents at the beginning in order to store them in a more machine compatible format.\n",
        "\n",
        "In this case, we're going to parse our text file into a single document in memory.\n",
        "\n",
        "Let's look at the relevant bits of the `TextFileLoader` class:\n",
        "\n",
        "```python\n",
        "def load_file(self):\n",
        "        with open(self.path, \"r\", encoding=self.encoding) as f:\n",
        "            self.documents.append(f.read())\n",
        "```\n",
        "\n",
        "We're simply loading the document using the built in `open` method, and storing that output in our `self.documents` list.\n",
        "\n",
        "> NOTE: We're using blogs from PMarca (Marc Andreessen) as our sample data. This data is largely irrelevant as we want to focus on the mechanisms of RAG, which includes out data's shape and quality - but not specifically what the contents of the data are. \n"
      ]
    },
    {
      "cell_type": "code",
      "execution_count": 3,
      "metadata": {
        "colab": {
          "base_uri": "https://localhost:8080/"
        },
        "id": "Ia2sUEuGR6yu",
        "outputId": "84937ecc-c35f-4c4a-a4ab-9da72625954c"
      },
      "outputs": [
        {
          "data": {
            "text/plain": [
              "1"
            ]
          },
          "execution_count": 3,
          "metadata": {},
          "output_type": "execute_result"
        }
      ],
      "source": [
        "text_loader = TextFileLoader(\"data/PMarcaBlogs.txt\")\n",
        "documents = text_loader.load_documents()\n",
        "len(documents)"
      ]
    },
    {
      "cell_type": "code",
      "execution_count": 4,
      "metadata": {
        "colab": {
          "base_uri": "https://localhost:8080/"
        },
        "id": "bV-tj5WFR6yu",
        "outputId": "674eb315-1ff3-4597-bcf5-38ece0a812ac"
      },
      "outputs": [
        {
          "name": "stdout",
          "output_type": "stream",
          "text": [
            "\n",
            "The Pmarca Blog Archives\n",
            "(select posts from 2007-2009)\n",
            "Marc Andreessen\n",
            "copyright: Andreessen Horow\n"
          ]
        }
      ],
      "source": [
        "print(documents[0][:100])"
      ]
    },
    {
      "cell_type": "markdown",
      "metadata": {
        "id": "nHlTvCzYR6yu"
      },
      "source": [
        "### Splitting Text Into Chunks\n",
        "\n",
        "As we can see, there is one massive document.\n",
        "\n",
        "We'll want to chunk the document into smaller parts so it's easier to pass the most relevant snippets to the LLM.\n",
        "\n",
        "There is no fixed way to split/chunk documents - and you'll need to rely on some intuition as well as knowing your data *very* well in order to build the most robust system.\n",
        "\n",
        "For this toy example, we'll just split blindly on length.\n",
        "\n",
        ">There's an opportunity to clear up some terminology here, for this course we will be stick to the following:\n",
        ">\n",
        ">- \"source documents\" : The `.txt`, `.pdf`, `.html`, ..., files that make up the files and information we start with in its raw format\n",
        ">- \"document(s)\" : single (or more) text object(s)\n",
        ">- \"corpus\" : the combination of all of our documents"
      ]
    },
    {
      "cell_type": "markdown",
      "metadata": {
        "id": "2G6Voc0jR6yv"
      },
      "source": [
        "As you can imagine (though it's not specifically true in this toy example) the idea of splitting documents is to break them into managable sized chunks that retain the most relevant local context."
      ]
    },
    {
      "cell_type": "code",
      "execution_count": 5,
      "metadata": {
        "colab": {
          "base_uri": "https://localhost:8080/"
        },
        "id": "UMC4tsEmR6yv",
        "outputId": "08689c0b-57cd-4040-942a-8193e997f5cb"
      },
      "outputs": [
        {
          "data": {
            "text/plain": [
              "373"
            ]
          },
          "execution_count": 5,
          "metadata": {},
          "output_type": "execute_result"
        }
      ],
      "source": [
        "text_splitter = CharacterTextSplitter()\n",
        "split_documents = text_splitter.split_texts(documents)\n",
        "len(split_documents)"
      ]
    },
    {
      "cell_type": "markdown",
      "metadata": {
        "id": "W2wKT0WLR6yv"
      },
      "source": [
        "Let's take a look at some of the documents we've managed to split."
      ]
    },
    {
      "cell_type": "code",
      "execution_count": 6,
      "metadata": {
        "colab": {
          "base_uri": "https://localhost:8080/"
        },
        "id": "vcYMwWJoR6yv",
        "outputId": "20d69876-feca-4826-b4be-32915276987a"
      },
      "outputs": [
        {
          "data": {
            "text/plain": [
              "['\\ufeff\\nThe Pmarca Blog Archives\\n(select posts from 2007-2009)\\nMarc Andreessen\\ncopyright: Andreessen Horowitz\\ncover design: Jessica Hagy\\nproduced using: Pressbooks\\nContents\\nTHE PMARCA GUIDE TO STARTUPS\\nPart 1: Why not to do a startup 2\\nPart 2: When the VCs say \"no\" 10\\nPart 3: \"But I don\\'t know any VCs!\" 18\\nPart 4: The only thing that matters 25\\nPart 5: The Moby Dick theory of big companies 33\\nPart 6: How much funding is too little? Too much? 41\\nPart 7: Why a startup\\'s initial business plan doesn\\'t\\nmatter that much\\n49\\nTHE PMARCA GUIDE TO HIRING\\nPart 8: Hiring, managing, promoting, and Dring\\nexecutives\\n54\\nPart 9: How to hire a professional CEO 68\\nHow to hire the best people you\\'ve ever worked\\nwith\\n69\\nTHE PMARCA GUIDE TO BIG COMPANIES\\nPart 1: Turnaround! 82\\nPart 2: Retaining great people 86\\nTHE PMARCA GUIDE TO CAREER, PRODUCTIVITY,\\nAND SOME OTHER THINGS\\nIntroduction 97\\nPart 1: Opportunity 99\\nPart 2: Skills and education 107\\nPart 3: Where to go and why 120\\nThe Pmarca Guide to Personal Productivi']"
            ]
          },
          "execution_count": 6,
          "metadata": {},
          "output_type": "execute_result"
        }
      ],
      "source": [
        "split_documents[0:1]"
      ]
    },
    {
      "cell_type": "markdown",
      "metadata": {
        "id": "HOU-RFP_R6yv"
      },
      "source": [
        "## Task 3: Embeddings and Vectors\n",
        "\n",
        "Next, we have to convert our corpus into a \"machine readable\" format as we explored in the Embedding Primer notebook.\n",
        "\n",
        "Today, we're going to talk about the actual process of creating, and then storing, these embeddings, and how we can leverage that to intelligently add context to our queries."
      ]
    },
    {
      "cell_type": "markdown",
      "metadata": {},
      "source": [
        "### OpenAI API Key\n",
        "\n",
        "In order to access OpenAI's APIs, we'll need to provide our OpenAI API Key!\n",
        "\n",
        "You can work through the folder \"OpenAI API Key Setup\" for more information on this process if you don't already have an API Key!"
      ]
    },
    {
      "cell_type": "code",
      "execution_count": 7,
      "metadata": {},
      "outputs": [],
      "source": [
        "import os\n",
        "import openai\n",
        "from getpass import getpass\n",
        "\n",
        "openai.api_key = getpass(\"OpenAI API Key: \")\n",
        "os.environ[\"OPENAI_API_KEY\"] = openai.api_key"
      ]
    },
    {
      "cell_type": "markdown",
      "metadata": {},
      "source": [
        "### Vector Database\n",
        "\n",
        "Let's set up our vector database to hold all our documents and their embeddings!"
      ]
    },
    {
      "cell_type": "markdown",
      "metadata": {
        "id": "kDQrfAR1R6yv"
      },
      "source": [
        "While this is all baked into 1 call - we can look at some of the code that powers this process to get a better understanding:\n",
        "\n",
        "Let's look at our `VectorDatabase().__init__()`:\n",
        "\n",
        "```python\n",
        "def __init__(self, embedding_model: EmbeddingModel = None):\n",
        "        self.vectors = defaultdict(np.array)\n",
        "        self.embedding_model = embedding_model or EmbeddingModel()\n",
        "```\n",
        "\n",
        "As you can see - our vectors are merely stored as a dictionary of `np.array` objects.\n",
        "\n",
        "Secondly, our `VectorDatabase()` has a default `EmbeddingModel()` which is a wrapper for OpenAI's `text-embedding-3-small` model.\n",
        "\n",
        "> **Quick Info About `text-embedding-3-small`**:\n",
        "> - It has a context window of **8191** tokens\n",
        "> - It returns vectors with dimension **1536**"
      ]
    },
    {
      "cell_type": "markdown",
      "metadata": {
        "id": "L273pRdeR6yv"
      },
      "source": [
        "#### ❓Question #1:\n",
        "\n",
        "The default embedding dimension of `text-embedding-3-small` is 1536, as noted above. \n",
        "\n",
        "1. Is there any way to modify this dimension?\n",
        "2. What technique does OpenAI use to achieve this?\n",
        "\n",
        "> NOTE: Check out this [API documentation](https://platform.openai.com/docs/api-reference/embeddings/create) for the answer to question #1.1, and [this documentation](https://platform.openai.com/docs/guides/embeddings/use-cases) for an answer to question #1.2!\n"
      ]
    },
    {
      "cell_type": "markdown",
      "metadata": {},
      "source": [
        "##### ✅ Answer:\n",
        "1. Yes, you can use the optional `dimensions` parameter in the Create Embeddings OpenAI API call\n",
        "2. A technique called Matryoshka Representation Learning (MRL), which is used to enable flexible embedding dimensionality"
      ]
    },
    {
      "cell_type": "markdown",
      "metadata": {
        "id": "w5FZY7K3R6yv"
      },
      "source": [
        "We can call the `async_get_embeddings` method of our `EmbeddingModel()` on a list of `str` and receive a list of `float` back!\n",
        "\n",
        "```python\n",
        "async def async_get_embeddings(self, list_of_text: List[str]) -> List[List[float]]:\n",
        "        return await aget_embeddings(\n",
        "            list_of_text=list_of_text, engine=self.embeddings_model_name\n",
        "        )\n",
        "```"
      ]
    },
    {
      "cell_type": "markdown",
      "metadata": {
        "id": "cSct6X0aR6yv"
      },
      "source": [
        "We cast those to `np.array` when we build our `VectorDatabase()`:\n",
        "\n",
        "```python\n",
        "async def abuild_from_list(self, list_of_text: List[str]) -> \"VectorDatabase\":\n",
        "        embeddings = await self.embedding_model.async_get_embeddings(list_of_text)\n",
        "        for text, embedding in zip(list_of_text, embeddings):\n",
        "            self.insert(text, np.array(embedding))\n",
        "        return self\n",
        "```\n",
        "\n",
        "And that's all we need to do!"
      ]
    },
    {
      "cell_type": "code",
      "execution_count": 8,
      "metadata": {
        "id": "O4KoLbVDR6yv"
      },
      "outputs": [],
      "source": [
        "vector_db = VectorDatabase()\n",
        "vector_db = asyncio.run(vector_db.abuild_from_list(split_documents))"
      ]
    },
    {
      "cell_type": "markdown",
      "metadata": {
        "id": "SSZwaGvpR6yv"
      },
      "source": [
        "#### ❓Question #2:\n",
        "\n",
        "What are the benefits of using an `async` approach to collecting our embeddings?\n",
        "\n",
        "> NOTE: Determining the core difference between `async` and `sync` will be useful! If you get stuck - ask ChatGPT!"
      ]
    },
    {
      "cell_type": "markdown",
      "metadata": {},
      "source": [
        "##### ✅ Answer:\n",
        "\n",
        "- Using `async` to collect embeddings lets you send multiple requests concurrently, reducing overall latency and improving throughput. It helps maximize efficiency without blocking while waiting for API responses. The main benefit is simply concurrency.\n"
      ]
    },
    {
      "cell_type": "markdown",
      "metadata": {
        "id": "nRBdIt-xR6yw"
      },
      "source": [
        "So, to review what we've done so far in natural language:\n",
        "\n",
        "1. We load source documents\n",
        "2. We split those source documents into smaller chunks (documents)\n",
        "3. We send each of those documents to the `text-embedding-3-small` OpenAI API endpoint\n",
        "4. We store each of the text representations with the vector representations as keys/values in a dictionary"
      ]
    },
    {
      "cell_type": "markdown",
      "metadata": {
        "id": "4-vWANZyR6yw"
      },
      "source": [
        "### Semantic Similarity\n",
        "\n",
        "The next step is to be able to query our `VectorDatabase()` with a `str` and have it return to us vectors and text that is most relevant from our corpus.\n",
        "\n",
        "We're going to use the following process to achieve this in our toy example:\n",
        "\n",
        "1. We need to embed our query with the same `EmbeddingModel()` as we used to construct our `VectorDatabase()`\n",
        "2. We loop through every vector in our `VectorDatabase()` and use a distance measure to compare how related they are\n",
        "3. We return a list of the top `k` closest vectors, with their text representations\n",
        "\n",
        "There's some very heavy optimization that can be done at each of these steps - but let's just focus on the basic pattern in this notebook.\n",
        "\n",
        "> We are using [cosine similarity](https://www.engati.com/glossary/cosine-similarity) as a distance metric in this example - but there are many many distance metrics you could use - like [these](https://flavien-vidal.medium.com/similarity-distances-for-natural-language-processing-16f63cd5ba55)\n",
        "\n",
        "> We are using a rather inefficient way of calculating relative distance between the query vector and all other vectors - there are more advanced approaches that are much more efficient, like [ANN](https://towardsdatascience.com/comprehensive-guide-to-approximate-nearest-neighbors-algorithms-8b94f057d6b6)"
      ]
    },
    {
      "cell_type": "code",
      "execution_count": 9,
      "metadata": {
        "colab": {
          "base_uri": "https://localhost:8080/"
        },
        "id": "76d96uavR6yw",
        "outputId": "bbfccc31-20a2-41c7-c14d-46554a43ed2d"
      },
      "outputs": [
        {
          "data": {
            "text/plain": [
              "[('ordingly.\\nSeventh, when hiring the executive to run your former specialty, be\\ncareful you don’t hire someone weak on purpose.\\nThis sounds silly, but you wouldn’t believe how oaen it happens.\\nThe CEO who used to be a product manager who has a weak\\nproduct management executive. The CEO who used to be in\\nsales who has a weak sales executive. The CEO who used to be\\nin marketing who has a weak marketing executive.\\nI call this the “Michael Eisner Memorial Weak Executive Problem” — aaer the CEO of Disney who had previously been a brilliant TV network executive. When he bought ABC at Disney, it\\npromptly fell to fourth place. His response? “If I had an extra\\ntwo days a week, I could turn around ABC myself.” Well, guess\\nwhat, he didn’t have an extra two days a week.\\nA CEO — or a startup founder — oaen has a hard time letting\\ngo of the function that brought him to the party. The result: you\\nhire someone weak into the executive role for that function so\\nthat you can continue to be “the man” — cons',\n",
              "  np.float64(0.6538563767462549)),\n",
              " ('m. They have areas where they are truly deXcient in judgment or skill set. That’s just life. Almost nobody is brilliant\\nat everything. When hiring and when Hring executives, you\\nmust therefore focus on strength rather than lack of weakness. Everybody has severe weaknesses even if you can’t see\\nthem yet. When managing, it’s oaen useful to micromanage and\\nto provide remedial training around these weaknesses. Doing so\\nmay make the diWerence between an executive succeeding or\\nfailing.\\nFor example, you might have a brilliant engineering executive\\nwho generates excellent team loyalty, has terriXc product judgment and makes the trains run on time. This same executive\\nmay be very poor at relating to the other functions in the company. She may generate far more than her share of cross-functional conYicts, cut herself oW from critical information, and\\nsigniXcantly impede your ability to sell and market eWectively.\\nYour alternatives are:\\n(a) Macro-manage and give her an annual or quarterly object',\n",
              "  np.float64(0.5036012174947994)),\n",
              " ('ed?\\nIn reality — as opposed to Marc’s warped view of reality — it will\\nbe extremely helpful for Marc [if he were actually the CEO,\\nwhich he is not] to meet with the new head of engineering daily\\nwhen she comes on board and review all of her thinking and\\ndecisions. This level of micromanagement will accelerate her\\ntraining and improve her long-term eWectiveness. It will make\\nher seem smarter to the rest of the organization which will build\\ncredibility and conXdence while she comes up to speed. Micromanaging new executives is generally a good idea for a limited\\nperiod of time.\\nHowever, that is not the only time that it makes sense to micro66 The Pmarca Blog Archives\\nmanage executives. It turns out that just about every executive\\nin the world has a few things that are seriously wrong with\\nthem. They have areas where they are truly deXcient in judgment or skill set. That’s just life. Almost nobody is brilliant\\nat everything. When hiring and when Hring executives, you\\nmust therefore focus o',\n",
              "  np.float64(0.481410259497753))]"
            ]
          },
          "execution_count": 9,
          "metadata": {},
          "output_type": "execute_result"
        }
      ],
      "source": [
        "vector_db.search_by_text(\"What is the Michael Eisner Memorial Weak Executive Problem?\", k=3)"
      ]
    },
    {
      "cell_type": "markdown",
      "metadata": {
        "id": "TehsfIiKR6yw"
      },
      "source": [
        "## Task 4: Prompts\n",
        "\n",
        "In the following section, we'll be looking at the role of prompts - and how they help us to guide our application in the right direction.\n",
        "\n",
        "In this notebook, we're going to rely on the idea of \"zero-shot in-context learning\".\n",
        "\n",
        "This is a lot of words to say: \"We will ask it to perform our desired task in the prompt, and provide no examples.\""
      ]
    },
    {
      "cell_type": "markdown",
      "metadata": {
        "id": "yXpA0UveR6yw"
      },
      "source": [
        "### XYZRolePrompt\n",
        "\n",
        "Before we do that, let's stop and think a bit about how OpenAI's chat models work.\n",
        "\n",
        "We know they have roles - as is indicated in the following API [documentation](https://platform.openai.com/docs/api-reference/chat/create#chat/create-messages)\n",
        "\n",
        "There are three roles, and they function as follows (taken directly from [OpenAI](https://platform.openai.com/docs/guides/gpt/chat-completions-api)):\n",
        "\n",
        "- `{\"role\" : \"system\"}` : The system message helps set the behavior of the assistant. For example, you can modify the personality of the assistant or provide specific instructions about how it should behave throughout the conversation. However note that the system message is optional and the model’s behavior without a system message is likely to be similar to using a generic message such as \"You are a helpful assistant.\"\n",
        "- `{\"role\" : \"user\"}` : The user messages provide requests or comments for the assistant to respond to.\n",
        "- `{\"role\" : \"assistant\"}` : Assistant messages store previous assistant responses, but can also be written by you to give examples of desired behavior.\n",
        "\n",
        "The main idea is this:\n",
        "\n",
        "1. You start with a system message that outlines how the LLM should respond, what kind of behaviours you can expect from it, and more\n",
        "2. Then, you can provide a few examples in the form of \"assistant\"/\"user\" pairs\n",
        "3. Then, you prompt the model with the true \"user\" message.\n",
        "\n",
        "In this example, we'll be forgoing the 2nd step for simplicities sake."
      ]
    },
    {
      "cell_type": "markdown",
      "metadata": {
        "id": "gdZ2KWKSR6yw"
      },
      "source": [
        "#### Utility Functions\n",
        "\n",
        "You'll notice that we're using some utility functions from the `aimakerspace` module - let's take a peek at these and see what they're doing!"
      ]
    },
    {
      "cell_type": "markdown",
      "metadata": {
        "id": "GFbeJDDsR6yw"
      },
      "source": [
        "##### XYZRolePrompt"
      ]
    },
    {
      "cell_type": "markdown",
      "metadata": {
        "id": "5mojJSE3R6yw"
      },
      "source": [
        "Here we have our `system`, `user`, and `assistant` role prompts.\n",
        "\n",
        "Let's take a peek at what they look like:\n",
        "\n",
        "```python\n",
        "class BasePrompt:\n",
        "    def __init__(self, prompt):\n",
        "        \"\"\"\n",
        "        Initializes the BasePrompt object with a prompt template.\n",
        "\n",
        "        :param prompt: A string that can contain placeholders within curly braces\n",
        "        \"\"\"\n",
        "        self.prompt = prompt\n",
        "        self._pattern = re.compile(r\"\\{([^}]+)\\}\")\n",
        "\n",
        "    def format_prompt(self, **kwargs):\n",
        "        \"\"\"\n",
        "        Formats the prompt string using the keyword arguments provided.\n",
        "\n",
        "        :param kwargs: The values to substitute into the prompt string\n",
        "        :return: The formatted prompt string\n",
        "        \"\"\"\n",
        "        matches = self._pattern.findall(self.prompt)\n",
        "        return self.prompt.format(**{match: kwargs.get(match, \"\") for match in matches})\n",
        "\n",
        "    def get_input_variables(self):\n",
        "        \"\"\"\n",
        "        Gets the list of input variable names from the prompt string.\n",
        "\n",
        "        :return: List of input variable names\n",
        "        \"\"\"\n",
        "        return self._pattern.findall(self.prompt)\n",
        "```\n",
        "\n",
        "Then we have our `RolePrompt` which laser focuses us on the role pattern found in most API endpoints for LLMs.\n",
        "\n",
        "```python\n",
        "class RolePrompt(BasePrompt):\n",
        "    def __init__(self, prompt, role: str):\n",
        "        \"\"\"\n",
        "        Initializes the RolePrompt object with a prompt template and a role.\n",
        "\n",
        "        :param prompt: A string that can contain placeholders within curly braces\n",
        "        :param role: The role for the message ('system', 'user', or 'assistant')\n",
        "        \"\"\"\n",
        "        super().__init__(prompt)\n",
        "        self.role = role\n",
        "\n",
        "    def create_message(self, **kwargs):\n",
        "        \"\"\"\n",
        "        Creates a message dictionary with a role and a formatted message.\n",
        "\n",
        "        :param kwargs: The values to substitute into the prompt string\n",
        "        :return: Dictionary containing the role and the formatted message\n",
        "        \"\"\"\n",
        "        return {\"role\": self.role, \"content\": self.format_prompt(**kwargs)}\n",
        "```\n",
        "\n",
        "We'll look at how the `SystemRolePrompt` is constructed to get a better idea of how that extension works:\n",
        "\n",
        "```python\n",
        "class SystemRolePrompt(RolePrompt):\n",
        "    def __init__(self, prompt: str):\n",
        "        super().__init__(prompt, \"system\")\n",
        "```\n",
        "\n",
        "That pattern is repeated for our `UserRolePrompt` and our `AssistantRolePrompt` as well."
      ]
    },
    {
      "cell_type": "markdown",
      "metadata": {
        "id": "D361R6sMR6yw"
      },
      "source": [
        "##### ChatOpenAI"
      ]
    },
    {
      "cell_type": "markdown",
      "metadata": {
        "id": "HJVQ2Pm8R6yw"
      },
      "source": [
        "Next we have our model, which is converted to a format analagous to libraries like LangChain and LlamaIndex.\n",
        "\n",
        "Let's take a peek at how that is constructed:\n",
        "\n",
        "```python\n",
        "class ChatOpenAI:\n",
        "    def __init__(self, model_name: str = \"gpt-4.1-mini\"):\n",
        "        self.model_name = model_name\n",
        "        self.openai_api_key = os.getenv(\"OPENAI_API_KEY\")\n",
        "        if self.openai_api_key is None:\n",
        "            raise ValueError(\"OPENAI_API_KEY is not set\")\n",
        "\n",
        "    def run(self, messages, text_only: bool = True):\n",
        "        if not isinstance(messages, list):\n",
        "            raise ValueError(\"messages must be a list\")\n",
        "\n",
        "        openai.api_key = self.openai_api_key\n",
        "        response = openai.ChatCompletion.create(\n",
        "            model=self.model_name, messages=messages\n",
        "        )\n",
        "\n",
        "        if text_only:\n",
        "            return response.choices[0].message.content\n",
        "\n",
        "        return response\n",
        "```"
      ]
    },
    {
      "cell_type": "markdown",
      "metadata": {
        "id": "qCU7FfhIR6yw"
      },
      "source": [
        "#### ❓ Question #3:\n",
        "\n",
        "When calling the OpenAI API - are there any ways we can achieve more reproducible outputs?\n",
        "\n",
        "\n",
        "> NOTE: Check out [this section](https://platform.openai.com/docs/guides/text-generation/) of the OpenAI documentation for the answer!"
      ]
    },
    {
      "cell_type": "markdown",
      "metadata": {},
      "source": [
        "##### ✅ Answer:\n",
        "You could use `seed` and `temperature`.\n",
        "Temperature controls randomness in generation:\n",
        "- Higher temperature makes the model more creative and varied.\n",
        "- Lower temperatire makes it more focused and deterministic, often repeating the same output for the same input (exactly what was asked here)\n",
        "\n",
        "\n",
        "Seed fixes the random number generator so that with the same input and parameters you’ll get more identical outputs\n"
      ]
    },
    {
      "cell_type": "markdown",
      "metadata": {
        "id": "c5wcjMLCR6yw"
      },
      "source": [
        "### Creating and Prompting OpenAI's `gpt-4.1-mini`!\n",
        "\n",
        "Let's tie all these together and use it to prompt `gpt-4.1-mini`!"
      ]
    },
    {
      "cell_type": "code",
      "execution_count": 10,
      "metadata": {
        "id": "WIfpIot7R6yw"
      },
      "outputs": [],
      "source": [
        "from aimakerspace.openai_utils.prompts import (\n",
        "    UserRolePrompt,\n",
        "    SystemRolePrompt,\n",
        "    AssistantRolePrompt,\n",
        ")\n",
        "\n",
        "from aimakerspace.openai_utils.chatmodel import ChatOpenAI\n",
        "\n",
        "chat_openai = ChatOpenAI()\n",
        "user_prompt_template = \"{content}\"\n",
        "user_role_prompt = UserRolePrompt(user_prompt_template)\n",
        "system_prompt_template = (\n",
        "    \"You are an expert in {expertise}, you always answer in a kind way.\"\n",
        ")\n",
        "system_role_prompt = SystemRolePrompt(system_prompt_template)\n",
        "\n",
        "messages = [\n",
        "    system_role_prompt.create_message(expertise=\"Python\"),\n",
        "    user_role_prompt.create_message(\n",
        "        content=\"What is the best way to write a loop?\"\n",
        "    ),\n",
        "]\n",
        "\n",
        "response = chat_openai.run(messages)"
      ]
    },
    {
      "cell_type": "code",
      "execution_count": 11,
      "metadata": {
        "colab": {
          "base_uri": "https://localhost:8080/"
        },
        "id": "dHo7lssNR6yw",
        "outputId": "1d3823fa-bb6b-45f6-ddba-b41686388324"
      },
      "outputs": [
        {
          "name": "stdout",
          "output_type": "stream",
          "text": [
            "Hello! The best way to write a loop in Python depends a bit on what you're trying to achieve, but generally, Python's `for` loops and `while` loops are both very useful and idiomatic.\n",
            "\n",
            "Here’s a quick overview:\n",
            "\n",
            "### Using a `for` loop\n",
            "`for` loops are great for iterating over a sequence (like a list, tuple, string, or range).\n",
            "\n",
            "Example: Looping through a list of numbers and printing them:\n",
            "\n",
            "```python\n",
            "numbers = [1, 2, 3, 4, 5]\n",
            "for num in numbers:\n",
            "    print(num)\n",
            "```\n",
            "\n",
            "Or looping a fixed number of times using `range()`:\n",
            "\n",
            "```python\n",
            "for i in range(5):\n",
            "    print(i)\n",
            "```\n",
            "\n",
            "### Using a `while` loop\n",
            "`while` loops run as long as a condition is true, which is useful when the number of iterations isn’t known in advance.\n",
            "\n",
            "Example: Counting until a condition is met:\n",
            "\n",
            "```python\n",
            "count = 0\n",
            "while count < 5:\n",
            "    print(count)\n",
            "    count += 1\n",
            "```\n",
            "\n",
            "### Some tips for writing loops nicely:\n",
            "- Use `for` loops when you know the number of iterations or are iterating over a collection.\n",
            "- Use `while` loops when the number of iterations depends on a condition.\n",
            "- Avoid infinite loops unless you have a break condition inside.\n",
            "- Keep your loop body simple and readable.\n",
            "- Use `enumerate()` if you need both index and value during iteration.\n",
            "\n",
            "If you have a specific task in mind, I’d be happy to help you write the best loop for it! 😊\n"
          ]
        }
      ],
      "source": [
        "print(response)"
      ]
    },
    {
      "cell_type": "markdown",
      "metadata": {
        "id": "r2nxxhB2R6yy"
      },
      "source": [
        "## Task 5: Retrieval Augmented Generation\n",
        "\n",
        "Now we can create a RAG prompt - which will help our system behave in a way that makes sense!\n",
        "\n",
        "There is much you could do here, many tweaks and improvements to be made!"
      ]
    },
    {
      "cell_type": "code",
      "execution_count": 12,
      "metadata": {
        "id": "D1hamzGaR6yy"
      },
      "outputs": [],
      "source": [
        "RAG_SYSTEM_TEMPLATE = \"\"\"You are a knowledgeable assistant that answers questions based strictly on provided context.\n",
        "\n",
        "Instructions:\n",
        "- Only answer questions using information from the provided context\n",
        "- If the context doesn't contain relevant information, respond with \"I don't know\"\n",
        "- Be accurate and cite specific parts of the context when possible\n",
        "- Keep responses {response_style} and {response_length}\n",
        "- Only use the provided context. Do not use external knowledge.\n",
        "- Only provide answers when you are confident the context supports your response.\"\"\"\n",
        "\n",
        "RAG_USER_TEMPLATE = \"\"\"Context Information:\n",
        "{context}\n",
        "\n",
        "Number of relevant sources found: {context_count}\n",
        "{similarity_scores}\n",
        "\n",
        "Question: {user_query}\n",
        "\n",
        "Please provide your answer based solely on the context above.\"\"\"\n",
        "\n",
        "rag_system_prompt = SystemRolePrompt(\n",
        "    RAG_SYSTEM_TEMPLATE,\n",
        "    strict=True,\n",
        "    defaults={\n",
        "        \"response_style\": \"concise\",\n",
        "        \"response_length\": \"brief\"\n",
        "    }\n",
        ")\n",
        "\n",
        "rag_user_prompt = UserRolePrompt(\n",
        "    RAG_USER_TEMPLATE,\n",
        "    strict=True,\n",
        "    defaults={\n",
        "        \"context_count\": \"\",\n",
        "        \"similarity_scores\": \"\"\n",
        "    }\n",
        ")"
      ]
    },
    {
      "cell_type": "markdown",
      "metadata": {},
      "source": [
        "Now we can create our pipeline!"
      ]
    },
    {
      "cell_type": "code",
      "execution_count": 13,
      "metadata": {},
      "outputs": [],
      "source": [
        "class RetrievalAugmentedQAPipeline:\n",
        "    def __init__(self, llm: ChatOpenAI, vector_db_retriever: VectorDatabase, \n",
        "                 response_style: str = \"detailed\", include_scores: bool = False) -> None:\n",
        "        self.llm = llm\n",
        "        self.vector_db_retriever = vector_db_retriever\n",
        "        self.response_style = response_style\n",
        "        self.include_scores = include_scores\n",
        "\n",
        "    def run_pipeline(self, user_query: str, k: int = 4, **system_kwargs) -> dict:\n",
        "        # Retrieve relevant contexts\n",
        "        context_list = self.vector_db_retriever.search_by_text(user_query, k=k)\n",
        "        \n",
        "        context_prompt = \"\"\n",
        "        similarity_scores = []\n",
        "        \n",
        "        for i, (context, score) in enumerate(context_list, 1):\n",
        "            context_prompt += f\"[Source {i}]: {context}\\n\\n\"\n",
        "            similarity_scores.append(f\"Source {i}: {score:.3f}\")\n",
        "        \n",
        "        # Create system message with parameters\n",
        "        system_params = {\n",
        "            \"response_style\": self.response_style,\n",
        "            \"response_length\": system_kwargs.get(\"response_length\", \"detailed\")\n",
        "        }\n",
        "        \n",
        "        formatted_system_prompt = rag_system_prompt.create_message(**system_params)\n",
        "        \n",
        "        user_params = {\n",
        "            \"user_query\": user_query,\n",
        "            \"context\": context_prompt.strip(),\n",
        "            \"context_count\": len(context_list),\n",
        "            \"similarity_scores\": f\"Relevance scores: {', '.join(similarity_scores)}\" if self.include_scores else \"\"\n",
        "        }\n",
        "        \n",
        "        formatted_user_prompt = rag_user_prompt.create_message(**user_params)\n",
        "\n",
        "        return {\n",
        "            \"response\": self.llm.run([formatted_system_prompt, formatted_user_prompt]), \n",
        "            \"context\": context_list,\n",
        "            \"context_count\": len(context_list),\n",
        "            \"similarity_scores\": similarity_scores if self.include_scores else None,\n",
        "            \"prompts_used\": {\n",
        "                \"system\": formatted_system_prompt,\n",
        "                \"user\": formatted_user_prompt\n",
        "            }\n",
        "        }"
      ]
    },
    {
      "cell_type": "code",
      "execution_count": 14,
      "metadata": {},
      "outputs": [
        {
          "name": "stdout",
          "output_type": "stream",
          "text": [
            "Response: The \"Michael Eisner Memorial Weak Executive Problem\" refers to a situation where a CEO, who used to be strong in a particular function (e.g., product management, sales, marketing), hires a weak executive to run that same function after moving up to the CEO role. This often happens because the CEO has difficulty letting go of the function that brought them success (\"the function that brought him to the party\") and wants to remain \"the man\" in that area. The problem is named after Michael Eisner, the former CEO of Disney, who himself was a brilliant TV network executive but, after buying ABC, hired executive leadership that was weak and caused ABC to fall to fourth place. Eisner expressed a desire to personally turn around ABC but did not have the time, illustrating the problem of not delegating effectively to strong executives in the CEO's former specialty (Source 1).\n",
            "\n",
            "Context Count: 3\n",
            "Similarity Scores: ['Source 1: 0.658', 'Source 2: 0.509', 'Source 3: 0.479']\n"
          ]
        }
      ],
      "source": [
        "rag_pipeline = RetrievalAugmentedQAPipeline(\n",
        "    vector_db_retriever=vector_db,\n",
        "    llm=chat_openai,\n",
        "    response_style=\"detailed\",\n",
        "    include_scores=True\n",
        ")\n",
        "\n",
        "result = rag_pipeline.run_pipeline(\n",
        "    \"What is the 'Michael Eisner Memorial Weak Executive Problem'?\",\n",
        "    k=3,\n",
        "    response_length=\"comprehensive\", \n",
        "    include_warnings=True,\n",
        "    confidence_required=True\n",
        ")\n",
        "\n",
        "print(f\"Response: {result['response']}\")\n",
        "print(f\"\\nContext Count: {result['context_count']}\")\n",
        "print(f\"Similarity Scores: {result['similarity_scores']}\")"
      ]
    },
    {
      "cell_type": "markdown",
      "metadata": {
        "id": "zZIJI19uR6yz"
      },
      "source": [
        "#### ❓ Question #4:\n",
        "\n",
        "What prompting strategies could you use to make the LLM have a more thoughtful, detailed response?\n",
        "\n",
        "What is that strategy called?\n",
        "\n",
        "> NOTE: You can look through our [OpenAI Responses API](https://colab.research.google.com/drive/14SCfRnp39N7aoOx8ZxadWb0hAqk4lQdL?usp=sharing) notebook for an answer to this question if you get stuck!"
      ]
    },
    {
      "cell_type": "markdown",
      "metadata": {},
      "source": [
        "##### ✅ Answer:\n",
        "There are a few sstrategies you could use:\n",
        "- few-shot prompting: give the model a few examples of the desired behaviour\n",
        "- least-to-most prompting: break the entire task down into smaller subtasks and complete them sequentially.\n",
        "- chain-of-thought prompting: asking the model itself to break down into reasonable and logical steps to complete the task\n",
        "- General clear instructions and constraints: user provides a lot of detailed instructions, guidelines, and constraints the model must follow\n",
        "\n",
        "This is all generally pormpt engineering. I like least-to-most prompting for coding. As the SWE, I break the tasks down into sub-tasks for the LLM, then ask the LLM sequentially to do the tasks. I also like giving the LLM a lot of detail, and example, as well as strict guidelines and constraints to follow. Also prompting the LLM to \"follow all instructions\" or telling it to make a checklist of completed constraints, etc is helpful.\n"
      ]
    },
    {
      "cell_type": "markdown",
      "metadata": {},
      "source": [
        "### 🏗️ Activity #1:\n",
        "\n",
        "Enhance your RAG application in some way! \n",
        "\n",
        "Suggestions are: \n",
        "\n",
        "- Allow it to work with PDF files\n",
        "- Implement a new distance metric\n",
        "- Add metadata support to the vector database\n",
        "- Use a different embedding model\n",
        "- Add the capability to ingest a YouTube link\n",
        "\n",
        "While these are suggestions, you should feel free to make whatever augmentations you desire! If you shared an idea during Session 1, think about features you might need to incorporate for your use case! \n",
        "\n",
        "When you're finished making the augments to your RAG application - vibe check it against the old one - see if you can \"feel the improvement\"!\n",
        "\n",
        "> NOTE: These additions might require you to work within the `aimakerspace` library - that's expected!\n",
        "\n",
        "> NOTE: If you're not sure where to start - ask Cursor (CMD/CTRL+L) to guide you through the changes!"
      ]
    },
    {
      "cell_type": "code",
      "execution_count": 20,
      "metadata": {},
      "outputs": [
        {
          "name": "stdout",
          "output_type": "stream",
          "text": [
            "=== PDF Support Enhancement for RAG System ===\n",
            "\n",
            "1. Testing PDF File Loading...\n",
            "✅ Successfully loaded PDF with 1 document(s)\n",
            "📄 First 200 characters of PDF content:\n",
            "'**Page  1:  Introduction  to  Vector  Databases**   Vector  databases  are  specialized  database  systems  designed  to  store,  index,  and  query  \n",
            "high-dimensional\n",
            " \n",
            "vector\n",
            " \n",
            "data\n",
            " \n",
            "efficiently.\n",
            " ...'\n",
            "\n",
            "2. Creating Combined Document Corpus...\n",
            "📚 Text documents: 1\n",
            "📄 PDF documents: 1\n",
            "📋 Total combined documents: 2\n",
            "🔪 Total document chunks after splitting: 379\n",
            "\n",
            "3. Building Enhanced Vector Database...\n",
            "✅ Enhanced vector database created with 379 chunks\n",
            "\n",
            "4. Testing Enhanced Semantic Search...\n",
            "\n",
            "🔍 PMarca Query: 'What is the Michael Eisner Memorial Weak Executive Problem?'\n",
            "📊 Top result similarity: 0.654\n",
            "📝 Source snippet: 'ordingly.\n",
            "Seventh, when hiring the executive to run your former specialty, be\n",
            "careful you don’t hire someone weak on purpose.\n",
            "This sounds silly, but y...'\n",
            "\n",
            "🔍 Vector DB Query: 'What are the main distance metrics used in vector databases?'\n",
            "📊 Top result similarity: 0.685\n",
            "📝 Source snippet: 'mat.\n",
            "  Key  characteristics  of  vector  databases  include  support  for  approximate  nearest  neighbor  (ANN)  \n",
            "search,\n",
            " \n",
            "horizontal\n",
            " \n",
            "scalability,...'\n",
            "\n",
            "5. Testing Enhanced RAG Pipeline...\n",
            "\n",
            "🤖 Enhanced RAG Query: 'How do vector databases support executive decision making in startups?'\n",
            "\n",
            "📋 Enhanced RAG Response:\n",
            "The provided context does not explicitly discuss how vector databases support executive decision making in startups. The information about vector databases primarily covers their technical characteristics, applications in AI (such as natural language processing and retrieval-augmented generation systems), and performance optimization strategies (Sources 1, 2, and 3). There is also unrelated content about hiring executives in startups (Source 4), but it does not connect to vector databases or how these systems support executive decision making.\n",
            "\n",
            "Therefore, based on the provided context, I don't know how vector databases support executive decision making in startups.\n",
            "\n",
            "📊 Sources Used: 4 chunks\n",
            "🎯 Relevance Scores: ['Source 1: 0.564', 'Source 2: 0.508', 'Source 3: 0.504', 'Source 4: 0.486']\n",
            "\n",
            "============================================================\n",
            "🎯 ENHANCEMENT DEMONSTRATION\n",
            "============================================================\n",
            "\n",
            "🔍 PDF Knowledge Query: 'What is cosine similarity and when is it used?'\n",
            "💡 Response: Cosine similarity measures the cosine of the angle between two vectors, focusing on the orientation rather than the magnitude of the vectors. It is ideal for high-dimensional data where magnitude matters less than direction. Cosine similarity is particularly popular in Natural Language Processing (N...\n",
            "\n",
            "🔍 Text Knowledge Query: 'What advice does Marc Andreessen give about hiring executives?'\n",
            "💡 Response: Based on the provided context, Marc Andreessen offers several pieces of advice regarding hiring executives:\n",
            "\n",
            "1. **Be cautious about hiring a CEO for a startup:** He advises that if no one on your founding team is capable of being CEO, you should consider selling your company instead of trying to hir...\n",
            "\n",
            "✨ SUCCESS: RAG system now supports both PDF and text sources!\n",
            "\n",
            "6. Testing Unified DocumentLoader...\n",
            "📁 Unified loader found 2 documents in data/ directory\n",
            "✅ DocumentLoader successfully handles mixed file types!\n",
            "\n",
            "7. Interactive Q&A with Enhanced RAG System...\n",
            "============================================================\n",
            "🎯 INTERACTIVE SESSION - Ask Your Own Questions!\n",
            "============================================================\n",
            "You can now ask questions that will be answered using both:\n",
            "📚 PMarca Blogs (business/startup advice)\n",
            "📄 Vector Database PDF (technical AI/ML concepts)\n",
            "\n",
            "Type 'quit' to exit the interactive session.\n",
            "------------------------------------------------------------\n",
            "\n",
            "🔍 Searching for: 'How do vector databases help with startup decisions?'\n",
            "⏳ Processing...\n",
            "\n",
            "==================================================\n",
            "🤖 RAG RESPONSE:\n",
            "==================================================\n",
            "The provided context does not specifically address how vector databases help with startup decisions. However, based on the information about vector databases, they are specialized systems designed for efficiently storing, indexing, and querying high-dimensional vector data, especially useful in AI applications like natural language processing, computer vision, and recommendation systems (Source 1, Page 1). Their key functionalities include support for approximate nearest neighbor (ANN) search, horizontal scalability, and integration with machine learning pipelines (Source 1, Page 1; Source 3, Page 1).\n",
            "\n",
            "From this, one can infer that vector databases enable startups to work efficiently with AI-generated embeddings that capture semantic meaning, allowing for advanced similarity search capabilities (Source 3, Page 2). This could support better decision-making in recommendation systems, search functionality, and data retrieval efficiency, which are often critical for startups building AI-driven products. Additionally, optimizations like indexing algorithms and efficient batch operations help maintain performance as the data scales, supporting growing startups (Source 2, Page 4).\n",
            "\n",
            "However, since there is no explicit mention in the context of vector databases directly aiding startup decisions, a definitive answer cannot be provided.\n",
            "\n",
            "Therefore, the answer is: I don't know.\n",
            "\n",
            "📊 SOURCES USED:\n",
            "   • Number of chunks: 3\n",
            "   • Relevance scores: Source 1: 0.606, Source 2: 0.558, Source 3: 0.520\n",
            "\n",
            "📝 SOURCE SNIPPETS:\n",
            "   [1] (score: 0.606) **Page  1:  Introduction  to  Vector  Databases**   Vector  databases  are  specialized  database  systems  designed  to...\n",
            "   [2] (score: 0.558) unks\n",
            " \n",
            "are\n",
            " \n",
            "then\n",
            " \n",
            "provided\n",
            " \n",
            "as\n",
            " \n",
            "context\n",
            " \n",
            "to\n",
            " \n",
            "a\n",
            " \n",
            "language\n",
            " \n",
            "model,\n",
            " \n",
            "which\n",
            " \n",
            "generates\n",
            " \n",
            "a\n",
            " \n",
            "response\n",
            " \n",
            "grounded\n",
            " ...\n",
            "   [3] (score: 0.520) mat.\n",
            "  Key  characteristics  of  vector  databases  include  support  for  approximate  nearest  neighbor  (ANN)  \n",
            "searc...\n",
            "\n",
            "------------------------------------------------------------\n",
            "\n",
            "🔍 Searching for: 'What is a vector database?'\n",
            "⏳ Processing...\n",
            "\n",
            "==================================================\n",
            "🤖 RAG RESPONSE:\n",
            "==================================================\n",
            "A vector database is a specialized database system designed to store, index, and query high-dimensional vector data efficiently. Unlike traditional databases that work with structured data like numbers and strings, vector databases are optimized for similarity search operations on dense vector representations (embeddings) that capture semantic meaning in a mathematical format. They have become important due to the rise of AI applications such as natural language processing, computer vision, and recommendation systems, which generate these embeddings. Key characteristics of vector databases include support for approximate nearest neighbor (ANN) search, horizontal scalability, and integration with machine learning pipelines. Popular vector databases include Pinecone, Weaviate, Chroma, and Qdrant. (Source 1, Page 1; Source 3, Page 1)\n",
            "\n",
            "📊 SOURCES USED:\n",
            "   • Number of chunks: 3\n",
            "   • Relevance scores: Source 1: 0.640, Source 2: 0.531, Source 3: 0.517\n",
            "\n",
            "📝 SOURCE SNIPPETS:\n",
            "   [1] (score: 0.640) **Page  1:  Introduction  to  Vector  Databases**   Vector  databases  are  specialized  database  systems  designed  to...\n",
            "   [2] (score: 0.531) most  important  \n",
            "applications\n",
            " \n",
            "of\n",
            " \n",
            "vector\n",
            " \n",
            "databases\n",
            " \n",
            "in\n",
            " \n",
            "modern\n",
            " \n",
            "AI.\n",
            " \n",
            "RAG\n",
            " \n",
            "systems\n",
            " \n",
            "combine\n",
            " \n",
            "the\n",
            " \n",
            "power\n",
            " \n",
            "o...\n",
            "   [3] (score: 0.517) mat.\n",
            "  Key  characteristics  of  vector  databases  include  support  for  approximate  nearest  neighbor  (ANN)  \n",
            "searc...\n",
            "\n",
            "------------------------------------------------------------\n",
            "\n",
            "🔍 Searching for: 'Explain Newton's third law to me.'\n",
            "⏳ Processing...\n",
            "\n",
            "==================================================\n",
            "🤖 RAG RESPONSE:\n",
            "==================================================\n",
            "I don't know\n",
            "\n",
            "📊 SOURCES USED:\n",
            "   • Number of chunks: 3\n",
            "   • Relevance scores: Source 1: 0.265, Source 2: 0.264, Source 3: 0.237\n",
            "\n",
            "📝 SOURCE SNIPPETS:\n",
            "   [1] (score: 0.265) Werent reasons. The principles involved aWect everyone.\n",
            "Here’s where it helps to be a neurologist writing on this topic:...\n",
            "   [2] (score: 0.264) nguish between motion and progress”.\n",
            "Yes, at some point this distinction must be made. But it cannot\n",
            "always be made Xrst...\n",
            "   [3] (score: 0.237) lized prompting of it.\n",
            "Please explain!\n",
            "Chance IV is the kind of luck that develops during a probing action\n",
            "which has a d...\n",
            "\n",
            "------------------------------------------------------------\n",
            "👋 Goodbye! Thanks for trying the enhanced RAG system!\n",
            "\n",
            "============================================================\n",
            "🎉 ACTIVITY #1 COMPLETE - PDF Support Added!\n",
            "============================================================\n",
            "New capabilities:\n",
            "• ✅ PDF file reading with pypdf\n",
            "• ✅ Multi-page PDF support\n",
            "• ✅ Password-protected PDF detection\n",
            "• ✅ Combined PDF + text document corpus\n",
            "• ✅ Enhanced RAG with multi-source knowledge\n",
            "• ✅ Unified DocumentLoader for mixed file types\n",
            "• ✅ Interactive Q&A session\n",
            "============================================================\n"
          ]
        }
      ],
      "source": [
        "# 🏗️ Activity #1: Enhanced RAG with PDF Support\n",
        "# \n",
        "# This implementation adds PDF file reading capability to our RAG system,\n",
        "# allowing us to ingest both .txt and .pdf files for knowledge retrieval.\n",
        "\n",
        "print(\"=== PDF Support Enhancement for RAG System ===\\n\")\n",
        "\n",
        "# Reload the module to get the latest changes\n",
        "import importlib\n",
        "import aimakerspace.text_utils\n",
        "importlib.reload(aimakerspace.text_utils)\n",
        "\n",
        "# Import the new PDF and unified document loaders\n",
        "from aimakerspace.text_utils import PDFFileLoader, DocumentLoader\n",
        "\n",
        "# Step 1: Test PDF loading functionality\n",
        "print(\"1. Testing PDF File Loading...\")\n",
        "try:\n",
        "    # Load the PDF file\n",
        "    pdf_loader = PDFFileLoader(\"data/InputTest.pdf\")\n",
        "    pdf_documents = pdf_loader.load_documents()\n",
        "    \n",
        "    print(f\"✅ Successfully loaded PDF with {len(pdf_documents)} document(s)\")\n",
        "    print(f\"📄 First 200 characters of PDF content:\")\n",
        "    print(f\"'{pdf_documents[0][:200]}...'\\n\")\n",
        "    \n",
        "except Exception as e:\n",
        "    print(f\"❌ Error loading PDF: {e}\")\n",
        "    print(\"Note: Make sure 'pypdf' is installed: pip install pypdf\\n\")\n",
        "\n",
        "# Step 2: Create a combined corpus using both text and PDF files\n",
        "print(\"2. Creating Combined Document Corpus...\")\n",
        "try:\n",
        "    # Load text file\n",
        "    text_loader = TextFileLoader(\"data/PMarcaBlogs.txt\")\n",
        "    text_documents = text_loader.load_documents()\n",
        "    \n",
        "    # Load PDF file  \n",
        "    pdf_loader = PDFFileLoader(\"data/InputTest.pdf\")\n",
        "    pdf_documents = pdf_loader.load_documents()\n",
        "    \n",
        "    # Combine documents\n",
        "    combined_documents = text_documents + pdf_documents\n",
        "    \n",
        "    print(f\"📚 Text documents: {len(text_documents)}\")\n",
        "    print(f\"📄 PDF documents: {len(pdf_documents)}\")\n",
        "    print(f\"📋 Total combined documents: {len(combined_documents)}\")\n",
        "    \n",
        "    # Split the combined documents\n",
        "    text_splitter = CharacterTextSplitter()\n",
        "    combined_split_documents = text_splitter.split_texts(combined_documents)\n",
        "    \n",
        "    print(f\"🔪 Total document chunks after splitting: {len(combined_split_documents)}\\n\")\n",
        "    \n",
        "except Exception as e:\n",
        "    print(f\"❌ Error creating combined corpus: {e}\\n\")\n",
        "    combined_split_documents = split_documents  # Fallback to original documents\n",
        "\n",
        "# Step 3: Build enhanced vector database with combined content\n",
        "print(\"3. Building Enhanced Vector Database...\")\n",
        "try:\n",
        "    # Create new vector database with combined content\n",
        "    enhanced_vector_db = VectorDatabase()\n",
        "    enhanced_vector_db = asyncio.run(enhanced_vector_db.abuild_from_list(combined_split_documents))\n",
        "    \n",
        "    print(f\"✅ Enhanced vector database created with {len(combined_split_documents)} chunks\")\n",
        "    \n",
        "    # Test semantic search on both types of content\n",
        "    print(\"\\n4. Testing Enhanced Semantic Search...\")\n",
        "    \n",
        "    # Query about PMarca content (from text file)\n",
        "    pmarca_query = \"What is the Michael Eisner Memorial Weak Executive Problem?\"\n",
        "    pmarca_results = enhanced_vector_db.search_by_text(pmarca_query, k=2)\n",
        "    print(f\"\\n🔍 PMarca Query: '{pmarca_query}'\")\n",
        "    print(f\"📊 Top result similarity: {pmarca_results[0][1]:.3f}\")\n",
        "    print(f\"📝 Source snippet: '{pmarca_results[0][0][:150]}...'\\n\")\n",
        "    \n",
        "    # Query about vector database content (from PDF file)\n",
        "    vector_query = \"What are the main distance metrics used in vector databases?\"\n",
        "    vector_results = enhanced_vector_db.search_by_text(vector_query, k=2)\n",
        "    print(f\"🔍 Vector DB Query: '{vector_query}'\")\n",
        "    print(f\"📊 Top result similarity: {vector_results[0][1]:.3f}\")\n",
        "    print(f\"📝 Source snippet: '{vector_results[0][0][:150]}...'\\n\")\n",
        "    \n",
        "except Exception as e:\n",
        "    print(f\"❌ Error building enhanced vector database: {e}\")\n",
        "    enhanced_vector_db = vector_db  # Fallback to original\n",
        "\n",
        "# Step 5: Enhanced RAG Pipeline with Multi-Source Knowledge\n",
        "print(\"5. Testing Enhanced RAG Pipeline...\")\n",
        "try:\n",
        "    # Create enhanced RAG pipeline\n",
        "    enhanced_rag_pipeline = RetrievalAugmentedQAPipeline(\n",
        "        vector_db_retriever=enhanced_vector_db,\n",
        "        llm=chat_openai,\n",
        "        response_style=\"detailed\",\n",
        "        include_scores=True\n",
        "    )\n",
        "    \n",
        "    # Test cross-domain query that might use both sources\n",
        "    cross_domain_query = \"How do vector databases support executive decision making in startups?\"\n",
        "    \n",
        "    print(f\"\\n🤖 Enhanced RAG Query: '{cross_domain_query}'\")\n",
        "    \n",
        "    enhanced_result = enhanced_rag_pipeline.run_pipeline(\n",
        "        cross_domain_query,\n",
        "        k=4,\n",
        "        response_length=\"comprehensive\"\n",
        "    )\n",
        "    \n",
        "    print(\"\\n📋 Enhanced RAG Response:\")\n",
        "    print(f\"{enhanced_result['response']}\")\n",
        "    \n",
        "    print(f\"\\n📊 Sources Used: {enhanced_result['context_count']} chunks\")\n",
        "    if enhanced_result['similarity_scores']:\n",
        "        print(f\"🎯 Relevance Scores: {enhanced_result['similarity_scores']}\")\n",
        "    \n",
        "    # Demonstrate the power of multi-source knowledge\n",
        "    print(\"\\n\" + \"=\"*60)\n",
        "    print(\"🎯 ENHANCEMENT DEMONSTRATION\")\n",
        "    print(\"=\"*60)\n",
        "    \n",
        "    # Test PDF-specific knowledge\n",
        "    pdf_query = \"What is cosine similarity and when is it used?\"\n",
        "    pdf_result = enhanced_rag_pipeline.run_pipeline(pdf_query, k=3)\n",
        "    \n",
        "    print(f\"\\n🔍 PDF Knowledge Query: '{pdf_query}'\")\n",
        "    print(f\"💡 Response: {pdf_result['response'][:300]}...\")\n",
        "    \n",
        "    # Test text-specific knowledge  \n",
        "    text_query = \"What advice does Marc Andreessen give about hiring executives?\"\n",
        "    text_result = enhanced_rag_pipeline.run_pipeline(text_query, k=3)\n",
        "    \n",
        "    print(f\"\\n🔍 Text Knowledge Query: '{text_query}'\")\n",
        "    print(f\"💡 Response: {text_result['response'][:300]}...\")\n",
        "    \n",
        "    print(f\"\\n✨ SUCCESS: RAG system now supports both PDF and text sources!\")\n",
        "    \n",
        "except Exception as e:\n",
        "    print(f\"❌ Error testing enhanced RAG pipeline: {e}\")\n",
        "\n",
        "# Step 6: Demonstrate the DocumentLoader utility\n",
        "print(f\"\\n6. Testing Unified DocumentLoader...\")\n",
        "try:\n",
        "    # Test loading entire data directory\n",
        "    unified_loader = DocumentLoader(\"data/\")\n",
        "    all_documents = unified_loader.load_documents()\n",
        "    \n",
        "    print(f\"📁 Unified loader found {len(all_documents)} documents in data/ directory\")\n",
        "    print(\"✅ DocumentLoader successfully handles mixed file types!\")\n",
        "    \n",
        "except Exception as e:\n",
        "    print(f\"❌ Error with unified loader: {e}\")\n",
        "\n",
        "# Step 7: Interactive Q&A Session\n",
        "print(f\"\\n7. Interactive Q&A with Enhanced RAG System...\")\n",
        "print(\"=\"*60)\n",
        "print(\"🎯 INTERACTIVE SESSION - Ask Your Own Questions!\")\n",
        "print(\"=\"*60)\n",
        "print(\"You can now ask questions that will be answered using both:\")\n",
        "print(\"📚 PMarca Blogs (business/startup advice)\")\n",
        "print(\"📄 Vector Database PDF (technical AI/ML concepts)\")\n",
        "print(\"\\nType 'quit' to exit the interactive session.\")\n",
        "print(\"-\" * 60)\n",
        "\n",
        "try:\n",
        "    while True:\n",
        "        # Get user input\n",
        "        user_question = input(\"\\n❓ Your Question: \").strip()\n",
        "        \n",
        "        # Exit condition\n",
        "        if user_question.lower() in ['quit', 'exit', 'q']:\n",
        "            print(\"👋 Goodbye! Thanks for trying the enhanced RAG system!\")\n",
        "            break\n",
        "            \n",
        "        # Skip empty questions\n",
        "        if not user_question:\n",
        "            print(\"⚠️  Please enter a question or type 'quit' to exit.\")\n",
        "            continue\n",
        "            \n",
        "        print(f\"\\n🔍 Searching for: '{user_question}'\")\n",
        "        print(\"⏳ Processing...\")\n",
        "        \n",
        "        # Get RAG response\n",
        "        interactive_result = enhanced_rag_pipeline.run_pipeline(\n",
        "            user_question,\n",
        "            k=3,\n",
        "            response_length=\"detailed\"\n",
        "        )\n",
        "        \n",
        "        # Display results\n",
        "        print(\"\\n\" + \"=\"*50)\n",
        "        print(\"🤖 RAG RESPONSE:\")\n",
        "        print(\"=\"*50)\n",
        "        print(interactive_result['response'])\n",
        "        \n",
        "        print(f\"\\n📊 SOURCES USED:\")\n",
        "        print(f\"   • Number of chunks: {interactive_result['context_count']}\")\n",
        "        if interactive_result['similarity_scores']:\n",
        "            print(f\"   • Relevance scores: {', '.join(interactive_result['similarity_scores'])}\")\n",
        "        \n",
        "        print(\"\\n📝 SOURCE SNIPPETS:\")\n",
        "        for i, (chunk, score) in enumerate(interactive_result['context'], 1):\n",
        "            snippet = chunk[:120] + \"...\" if len(chunk) > 120 else chunk\n",
        "            print(f\"   [{i}] (score: {score:.3f}) {snippet}\")\n",
        "        \n",
        "        print(\"\\n\" + \"-\"*60)\n",
        "        \n",
        "except KeyboardInterrupt:\n",
        "    print(\"\\n\\n👋 Session ended by user (Ctrl+C)\")\n",
        "except Exception as e:\n",
        "    print(f\"\\n❌ Error in interactive session: {e}\")\n",
        "\n",
        "print(f\"\\n\" + \"=\"*60)\n",
        "print(\"🎉 ACTIVITY #1 COMPLETE - PDF Support Added!\")\n",
        "print(\"=\"*60)\n",
        "print(\"New capabilities:\")\n",
        "print(\"• ✅ PDF file reading with pypdf\")\n",
        "print(\"• ✅ Multi-page PDF support\") \n",
        "print(\"• ✅ Password-protected PDF detection\")\n",
        "print(\"• ✅ Combined PDF + text document corpus\")\n",
        "print(\"• ✅ Enhanced RAG with multi-source knowledge\")\n",
        "print(\"• ✅ Unified DocumentLoader for mixed file types\")\n",
        "print(\"• ✅ Interactive Q&A session\")\n",
        "print(\"=\"*60)"
      ]
    }
  ],
  "metadata": {
    "colab": {
      "provenance": []
    },
    "kernelspec": {
      "display_name": ".venv",
      "language": "python",
      "name": "python3"
    },
    "language_info": {
      "codemirror_mode": {
        "name": "ipython",
        "version": 3
      },
      "file_extension": ".py",
      "mimetype": "text/x-python",
      "name": "python",
      "nbconvert_exporter": "python",
      "pygments_lexer": "ipython3",
      "version": "3.13.2"
    },
    "orig_nbformat": 4
  },
  "nbformat": 4,
  "nbformat_minor": 0
}
