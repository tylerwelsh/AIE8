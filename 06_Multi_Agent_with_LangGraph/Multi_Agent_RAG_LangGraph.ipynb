{
 "cells": [
  {
   "cell_type": "markdown",
   "metadata": {
    "id": "KxpWDFG11o3G"
   },
   "source": [
    "# Multi-Agent Workflows + RAG - LangGraph\n",
    "\n",
    "Today we'll be looking at an example of a Multi-Agent workflow that's powered by LangGraph, LCEL, and more!\n",
    "\n",
    "We're going to be, more specifically, looking at a \"heirarchical agent teams\" from the [AutoGen: Enabling Next-Gen LLM\n",
    "Applications via Multi-Agent Conversation](https://arxiv.org/pdf/2308.08155) paper.\n",
    "\n",
    "This will be the final \"graph\" of our system:\n",
    "\n",
    "![image](https://i.imgur.com/r5LMMCt.png)\n",
    "\n",
    "It's important to keep in mind that the actual implementation will be constructed of 3 separate graphs, the final one having 2 graphs as nodes! LangGraph is a heckuva tool!\n",
    "\n"
   ]
  },
  {
   "cell_type": "markdown",
   "metadata": {
    "id": "TyzoBrWoYeOZ"
   },
   "source": [
    "# 🤝 BREAKOUT ROOM #1"
   ]
  },
  {
   "cell_type": "markdown",
   "metadata": {
    "id": "mx3oaVoX5cA2"
   },
   "source": [
    "## Dependencies"
   ]
  },
  {
   "cell_type": "markdown",
   "metadata": {
    "id": "Zpv2MWqu5vS9"
   },
   "source": [
    "Since we'll be relying on OpenAI's suite of models to power our agents today, we'll want to provide our OpenAI API Key.\n",
    "\n",
    "We're also going to be using the Tavily search tool - so we'll want to provide that API key as well!\n",
    "\n",
    "Instruction for how to obtain the Tavily API key can be found:\n",
    "\n",
    "1. [Tavily API Key](https://app.tavily.com/sign-in)\n",
    "\n"
   ]
  },
  {
   "cell_type": "code",
   "execution_count": 108,
   "metadata": {
    "colab": {
     "base_uri": "https://localhost:8080/"
    },
    "id": "h30OjkLfeR2Y",
    "outputId": "f75bb26e-b89d-4611-c29b-f339b3e868af"
   },
   "outputs": [],
   "source": [
    "import os\n",
    "import getpass\n",
    "\n",
    "os.environ[\"OPENAI_API_KEY\"] = getpass.getpass(\"OpenAI API Key:\")\n",
    "os.environ[\"TAVILY_API_KEY\"] = getpass.getpass(\"TAVILY_API_KEY\")"
   ]
  },
  {
   "cell_type": "code",
   "execution_count": 109,
   "metadata": {},
   "outputs": [],
   "source": [
    "import nest_asyncio\n",
    "nest_asyncio.apply()"
   ]
  },
  {
   "cell_type": "markdown",
   "metadata": {
    "id": "M_LD7rwT6PbO"
   },
   "source": [
    "## Task 1: Simple LangGraph RAG\n",
    "\n",
    "Now that we have our dependencies set-up - let's create a simple RAG graph that works over our AI Usage Data from previous sessions.\n",
    "\n",
    "> NOTE: While this particular example is very straight forward - you can \"plug in\" any complexity of chain you desire as a node in a LangGraph."
   ]
  },
  {
   "cell_type": "markdown",
   "metadata": {
    "id": "JY7T5kxJ6jGn"
   },
   "source": [
    "### Retrieval\n",
    "\n",
    "The 'R' in 'RAG' - this is, at this point, fairly straightforward!"
   ]
  },
  {
   "cell_type": "markdown",
   "metadata": {
    "id": "DGuPxSCk7Ztz"
   },
   "source": [
    "#### Data Collection and Processing\n",
    "\n",
    "A classic first step, at this point, let's grab our desired document!"
   ]
  },
  {
   "cell_type": "code",
   "execution_count": 110,
   "metadata": {
    "id": "LfuoEYRCln3H"
   },
   "outputs": [],
   "source": [
    "from langchain_community.document_loaders import DirectoryLoader\n",
    "from langchain_community.document_loaders import PyMuPDFLoader\n",
    "\n",
    "directory_loader = DirectoryLoader(\"data\", glob=\"**/*.pdf\", loader_cls=PyMuPDFLoader)\n",
    "\n",
    "how_people_use_ai_documents = directory_loader.load()"
   ]
  },
  {
   "cell_type": "markdown",
   "metadata": {
    "id": "r_t_F1zG6vXa"
   },
   "source": [
    "Now we can chunk it down to size!"
   ]
  },
  {
   "cell_type": "code",
   "execution_count": 111,
   "metadata": {
    "id": "5R7A_z8CgL79"
   },
   "outputs": [],
   "source": [
    "import tiktoken\n",
    "from langchain.text_splitter import RecursiveCharacterTextSplitter\n",
    "\n",
    "def tiktoken_len(text):\n",
    "    tokens = tiktoken.encoding_for_model(\"gpt-4o\").encode(\n",
    "        text,\n",
    "    )\n",
    "    return len(tokens)\n",
    "\n",
    "text_splitter = RecursiveCharacterTextSplitter(\n",
    "    chunk_size = 750,\n",
    "    chunk_overlap = 0,\n",
    "    length_function = tiktoken_len,\n",
    ")\n",
    "\n",
    "how_people_use_ai_chunks = text_splitter.split_documents(how_people_use_ai_documents)"
   ]
  },
  {
   "cell_type": "markdown",
   "metadata": {
    "id": "lGE-VuMc7AKv"
   },
   "source": [
    "Now we've successfully split our single PDF into..."
   ]
  },
  {
   "cell_type": "code",
   "execution_count": 112,
   "metadata": {
    "colab": {
     "base_uri": "https://localhost:8080/"
    },
    "id": "pgYBHsdWmLvW",
    "outputId": "aa9a830e-f7db-4bb3-f542-c0614cb01aca"
   },
   "outputs": [
    {
     "data": {
      "text/plain": [
       "71"
      ]
     },
     "execution_count": 112,
     "metadata": {},
     "output_type": "execute_result"
    }
   ],
   "source": [
    "len(how_people_use_ai_chunks)"
   ]
  },
  {
   "cell_type": "markdown",
   "metadata": {
    "id": "cGWs7KTd7QPS"
   },
   "source": [
    "#### Embedding Model and Vector Store\n",
    "\n",
    "Now that we have our chunked document - lets create a vector store, which will first require us to create an embedding model to get the vector representations of our text!\n",
    "\n",
    "We'll use OpenAI's [`text-embedding-3-small`](https://platform.openai.com/docs/guides/embeddings/embedding-models) model - as it's cheap, and performant."
   ]
  },
  {
   "cell_type": "code",
   "execution_count": 113,
   "metadata": {
    "id": "xLIWMMZCmfrj"
   },
   "outputs": [],
   "source": [
    "from langchain_openai.embeddings import OpenAIEmbeddings\n",
    "\n",
    "embedding_model = OpenAIEmbeddings(model=\"text-embedding-3-small\")"
   ]
  },
  {
   "cell_type": "markdown",
   "metadata": {
    "id": "lTEi7Ww573sc"
   },
   "source": [
    "Now we can create our QDrant backed vector store!"
   ]
  },
  {
   "cell_type": "code",
   "execution_count": 114,
   "metadata": {
    "id": "Xct51f8omVAU"
   },
   "outputs": [],
   "source": [
    "from langchain_community.vectorstores import Qdrant\n",
    "\n",
    "qdrant_vectorstore = Qdrant.from_documents(\n",
    "    documents=how_people_use_ai_chunks,\n",
    "    embedding=embedding_model,\n",
    "    location=\":memory:\"\n",
    ")"
   ]
  },
  {
   "cell_type": "markdown",
   "metadata": {
    "id": "wzGq6o4s79Ar"
   },
   "source": [
    "Let's make sure we can access it as a retriever."
   ]
  },
  {
   "cell_type": "code",
   "execution_count": 115,
   "metadata": {
    "id": "OTnQZbWymi4K"
   },
   "outputs": [],
   "source": [
    "qdrant_retriever = qdrant_vectorstore.as_retriever()"
   ]
  },
  {
   "cell_type": "markdown",
   "metadata": {
    "id": "aU8qSrMS7_D7"
   },
   "source": [
    "### Augmented\n",
    "\n",
    "Now that we have our retrieval process set-up, we need to set up our \"augmentation\" process - AKA a prompt template."
   ]
  },
  {
   "cell_type": "code",
   "execution_count": 116,
   "metadata": {
    "id": "lezTN0zCmk46"
   },
   "outputs": [],
   "source": [
    "from langchain_core.prompts import ChatPromptTemplate\n",
    "\n",
    "HUMAN_TEMPLATE = \"\"\"\n",
    "#CONTEXT:\n",
    "{context}\n",
    "\n",
    "QUERY:\n",
    "{query}\n",
    "\n",
    "Use the provide context to answer the provided user query. Only use the provided context to answer the query. If you do not know the answer, or it's not contained in the provided context respond with \"I don't know\"\n",
    "\"\"\"\n",
    "\n",
    "chat_prompt = ChatPromptTemplate.from_messages([\n",
    "    (\"human\", HUMAN_TEMPLATE)\n",
    "])"
   ]
  },
  {
   "cell_type": "markdown",
   "metadata": {
    "id": "Y9fa63nM7IKK"
   },
   "source": [
    "### Generation\n",
    "\n",
    "Last, but certainly not least, let's put the 'G' in 'RAG' by adding our generator - in this case, we can rely on OpenAI's [`gpt-4o-mini`](https://platform.openai.com/docs/models/gpt-4o-mini) model!"
   ]
  },
  {
   "cell_type": "code",
   "execution_count": 117,
   "metadata": {
    "id": "AwEi29-Jo3a8"
   },
   "outputs": [],
   "source": [
    "from langchain_openai import ChatOpenAI\n",
    "\n",
    "generator_llm = ChatOpenAI(model=\"gpt-4.1-nano\")"
   ]
  },
  {
   "cell_type": "markdown",
   "metadata": {
    "id": "qO-ZC0T98XJJ"
   },
   "source": [
    "### RAG - Retrieval Augmented Generation\n",
    "\n",
    "All that's left to do is combine our R, A, and G into a single graph - and we're off!"
   ]
  },
  {
   "cell_type": "code",
   "execution_count": 118,
   "metadata": {
    "id": "nlOJrPm_oT3S"
   },
   "outputs": [],
   "source": [
    "from langgraph.graph import START, StateGraph\n",
    "from typing_extensions import List, TypedDict\n",
    "from langchain_core.documents import Document\n",
    "from langchain_core.output_parsers import StrOutputParser\n",
    "\n",
    "class State(TypedDict):\n",
    "  question: str\n",
    "  context: List[Document]\n",
    "  response: str\n",
    "\n",
    "def retrieve(state: State):\n",
    "  retrieved_docs = qdrant_retriever.invoke(state[\"question\"])\n",
    "  return {\"context\" : retrieved_docs}\n",
    "\n",
    "def generate(state: State):\n",
    "  generator_chain = chat_prompt | generator_llm | StrOutputParser()\n",
    "  response = generator_chain.invoke({\"query\" : state[\"question\"], \"context\" : state[\"context\"]})\n",
    "  return {\"response\" : response}\n",
    "\n",
    "rag_graph = StateGraph(State).add_sequence([retrieve, generate])\n",
    "rag_graph.add_edge(START, \"retrieve\")\n",
    "compiled_rag_graph = rag_graph.compile()"
   ]
  },
  {
   "cell_type": "markdown",
   "metadata": {
    "id": "qiWrbXpu8ggz"
   },
   "source": [
    "Let's test this out and make sure it works."
   ]
  },
  {
   "cell_type": "code",
   "execution_count": 119,
   "metadata": {
    "colab": {
     "base_uri": "https://localhost:8080/",
     "height": 122
    },
    "id": "gJhFlW32pBPe",
    "outputId": "7aee04b6-608f-4639-adca-66225d4d3002"
   },
   "outputs": [
    {
     "data": {
      "text/plain": [
       "{'question': 'How does the average person use AI?',\n",
       " 'context': [Document(metadata={'producer': 'macOS Version 15.4.1 (Build 24E263) Quartz PDFContext, AppendMode 1.1', 'creator': 'LaTeX with hyperref', 'creationdate': '2025-09-12T20:05:32+00:00', 'source': 'data/howpeopleuseai.pdf', 'file_path': 'data/howpeopleuseai.pdf', 'total_pages': 64, 'format': 'PDF 1.6', 'title': 'How People Use ChatGPT', 'author': '', 'subject': '', 'keywords': '', 'moddate': '2025-09-15T10:32:36-04:00', 'trapped': '', 'modDate': \"D:20250915103236-04'00'\", 'creationDate': 'D:20250912200532Z', 'page': 17, '_id': '270481f7fcaf42a39aab2bbecc03231f', '_collection_name': '9d232a7942ec43a5a4f98df3888ae813'}, page_content='suggests that most user Writing conversations with ChatGPT are requests to modify user inputs\\nrather than to create something new. Education is a major use case for ChatGPT. 10.2% of all user\\nmessages and 36% of Practical Guidance messages are requests for Tutoring or Teaching. Another\\nlarge share - 8.5% in total and 30% of Practical Guidance - is general how-to advice on a variety\\nof topics. Technical Help includes Computer Programming (4.2% of messages), Mathematical Calcu-\\nlations (3%), and Data Analysis (0.4%). Looking at the topic of Self-Expression, only 2.4% of all\\nChatGPT messages are about Relationships and Personal Reflection (1.9%) or Games and Role Play\\n(0.4%).\\nWhile users can seek information and advice from traditional web search engines as well as from\\nChatGPT, the ability to produce writing, software code, spreadsheets, and other digital products\\ndistinguishes generative AI from existing technologies.\\nChatGPT is also more flexible than web\\nsearch even for traditional applications like Seeking Information and Practical Guidance, because\\nusers receive customized responses (e.g., tailored workout plans, new product ideas, ideas for fantasy\\nfootball team names) that represent newly generated content or novel modification of user-provided\\ncontent and follow-up requests.\\nFigure 9: Breakdown of granular conversation topic shares within the coarse mapping defined in Table 3. The\\nunderlying classifier prompt is available in Appendix A. Each bin reports a percentage of the total population.\\nShares are calculated from a sample of approximately 1.1 million sampled conversations from May 15, 2024\\nthrough June 26, 2025. Observations are reweighted to reflect total message volumes on a given day. Sampling\\ndetails available in Section 3.\\n5.3\\nUser Intent\\nExisting studies of the economic impacts of generative AI focus almost exclusively on the potential\\nfor AI to perform workplace tasks, either augmenting or automating human labor (e.g. Eloundou et\\nal. (2025), Handa et al. (2025), Tomlinson et al. (2025)). However, generative AI is a highly flexible\\n16'),\n",
       "  Document(metadata={'producer': 'macOS Version 15.4.1 (Build 24E263) Quartz PDFContext, AppendMode 1.1', 'creator': 'LaTeX with hyperref', 'creationdate': '2025-09-12T20:05:32+00:00', 'source': 'data/howpeopleuseai.pdf', 'file_path': 'data/howpeopleuseai.pdf', 'total_pages': 64, 'format': 'PDF 1.6', 'title': 'How People Use ChatGPT', 'author': '', 'subject': '', 'keywords': '', 'moddate': '2025-09-15T10:32:36-04:00', 'trapped': '', 'modDate': \"D:20250915103236-04'00'\", 'creationDate': 'D:20250912200532Z', 'page': 4, '_id': '0c8a6dcb98034222b158424facb8fadf', '_collection_name': '9d232a7942ec43a5a4f98df3888ae813'}, page_content='to Games and Role Play. In contrast, Zao-Sanders (2025) estimates that Therapy/Companionship is\\nthe most prevalent use case for generative AI.9\\nWe also document several important facts about demographic variation in ChatGPT usage. First,\\nwe show evidence that the gender gap in ChatGPT usage has likely narrowed considerably over time,\\nand may have closed completely. In the few months after ChatGPT was released about 80% of active\\nusers had typically masculine first names.10 However, that number declined to 48% as of June 2025,\\nwith active users slightly more likely to have typically feminine first names. Second, we find that\\nnearly half of all messages sent by adults were sent by users under the age of 26, although age gaps\\nhave narrowed somewhat in recent months. Third, we find that ChatGPT usage has grown relatively\\nfaster in low- and middle-income countries over the last year. Fourth, we find that educated users and\\nusers in highly-paid professional occupations are substantially more likely to use ChatGPT for work.\\nWe introduce a new taxonomy to classify messages according to the kind of output the user is\\nseeking, using a simple rubric that we call Asking, Doing, or Expressing.11\\nAsking is when the\\nuser is seeking information or clarification to inform a decision, corresponding to problem-solving\\nmodels of knowledge work (e.g., Garicano (2000); Garicano and Rossi-Hansberg (2006); Carnehl and\\nSchneider (2025); Ide and Talamas (2025)). Doing is when the user wants to produce some output\\nor perform a particular task, corresponding to classic task-based models of work (e.g., Autor et al.\\n(2003)). Expressing is when the user is expressing views or feelings but not seeking any information or\\naction. We estimate that about 49% of messages are Asking, 40% are Doing, and 11% are Expressing.\\nHowever, as of July 2025 about 56% of work-related messages are classified as Doing (e.g., performing\\njob tasks), and nearly three-quarters of those are Writing tasks. The relative frequency of writing-\\nrelated conversations is notable for two reasons. First, writing is a task that is common to nearly all\\nwhite-collar jobs, and good written communication skills are among the top “soft” skills demanded by\\nemployers (National Association of Colleges and Employers, 2024). Second, one distinctive feature of\\ngenerative AI, relative to other information technologies, is its ability to produce long-form outputs\\nsuch as writing and software code.\\nWe also map message content to work activities using the Occupational Information Network\\n(O*NET), a survey of job characteristics supported by the U.S. Department of Labor. We find that\\nabout 81% of work-related messages are associated with two broad work activities: 1) obtaining,\\ndocumenting, and interpreting information; and 2) making decisions, giving advice, solving problems,\\nand thinking creatively. Additionally, we find that the work activities associated with ChatGPT usage\\nare highly similar across very different kinds of occupations. For example, the work activities Getting\\nInformation and Making Decisions and Solving Problems are in the top five of message frequency in\\nnearly all occupations, ranging from management and business to STEM to administrative and sales\\noccupations.\\nOverall, we find that information-seeking and decision support are the most common ChatGPT\\nuse cases in most jobs. This is consistent with the fact that almost half of all ChatGPT usage is'),\n",
       "  Document(metadata={'producer': 'macOS Version 15.4.1 (Build 24E263) Quartz PDFContext, AppendMode 1.1', 'creator': 'LaTeX with hyperref', 'creationdate': '2025-09-12T20:05:32+00:00', 'source': 'data/howpeopleuseai.pdf', 'file_path': 'data/howpeopleuseai.pdf', 'total_pages': 64, 'format': 'PDF 1.6', 'title': 'How People Use ChatGPT', 'author': '', 'subject': '', 'keywords': '', 'moddate': '2025-09-15T10:32:36-04:00', 'trapped': '', 'modDate': \"D:20250915103236-04'00'\", 'creationDate': 'D:20250912200532Z', 'page': 43, '_id': '93bbfce1ccb6456493d42335e1b1655a', '_collection_name': '9d232a7942ec43a5a4f98df3888ae813'}, page_content='A.3\\nConversation Topic\\n-----\\nYou are an internal tool that classifies a message from a user to an AI chatbot,\\nbased on the context of the previous messages before it.\\n,→\\nBased on the last user message of this conversation transcript and taking into\\naccount the examples further below as guidance, please select the capability\\nthe user is clearly interested in, or `other` if it is clear but not in the\\nlist below, or `unclear` if it is hard to tell what the user even wants:\\n,→\\n,→\\n,→\\n- **edit_or_critique_provided_text**: Improving or modifying text provided by the\\nuser.\\n,→\\n- **argument_or_summary_generation**: Creating arguments or summaries on topics not\\nprovided in detail by the user.\\n,→\\n- **personal_writing_or_communication**: Assisting with personal messages, emails,\\nor social media posts.\\n,→\\n- **write_fiction**: Crafting poems, stories, or fictional content.\\n- **how_to_advice**: Providing step-by-step instructions or guidance on how to\\nperform tasks or learn new skills.\\n,→\\n- **creative_ideation**: Generating ideas or suggestions for creative projects or\\nactivities.\\n,→\\n- **tutoring_or_teaching**: Explaining concepts, teaching subjects, or helping the\\nuser understand educational material.\\n,→\\n- **translation**: Translating text from one language to another.\\n- **mathematical_calculation**: Solving math problems, performing calculations, or\\nworking with numerical data.\\n,→\\n- **computer_programming**: Writing code, debugging, explaining programming\\nconcepts, or discussing programming languages and tools.\\n,→\\n- **purchasable_products**: Inquiries about products or services available for\\npurchase.\\n,→\\n42'),\n",
       "  Document(metadata={'producer': 'macOS Version 15.4.1 (Build 24E263) Quartz PDFContext, AppendMode 1.1', 'creator': 'LaTeX with hyperref', 'creationdate': '2025-09-12T20:05:32+00:00', 'source': 'data/howpeopleuseai.pdf', 'file_path': 'data/howpeopleuseai.pdf', 'total_pages': 64, 'format': 'PDF 1.6', 'title': 'How People Use ChatGPT', 'author': '', 'subject': '', 'keywords': '', 'moddate': '2025-09-15T10:32:36-04:00', 'trapped': '', 'modDate': \"D:20250915103236-04'00'\", 'creationDate': 'D:20250912200532Z', 'page': 41, '_id': 'ae61b18f99a34f68b7e035ffc93235a9', '_collection_name': '9d232a7942ec43a5a4f98df3888ae813'}, page_content='Vaswani, Ashish, Noam Shazeer, Niki Parmar, Jakob Uszkoreit, Llion Jones, Aidan N.\\nGomez, Lukasz Kaiser, and Illia Polosukhin, “Attention Is All You Need,” in I. Guyon,\\nU. Von Luxburg, S. Bengio, H. Wallach, R. Fergus, S. Vishwanathan, and R. Garnett, eds., Ad-\\nvances in Neural Information Processing Systems, Vol. 30 of 31st Conference on Neural Information\\nProcessing Systems (NIPS) Curran Associates, Inc. Long Beach, CA, USA 2017.\\nWest, Jevin D., Jennifer Jacquet, Molly M. King, Shelley J. Correll, and Carl T.\\nBergstrom, “The Role of Gender in Scholarly Authorship,” PLoS ONE, 2013, 8 (7), e66212.\\nWiggers, Kyle, “ChatGPT Isn’t the Only Chatbot That’s Gaining Users,” TechCrunch, 2025. Ac-\\ncessed: 2025-09-10.\\nZao-Sanders, Marc, “How People Are Really Using Gen AI in 2025,” Harvard Business Review\\nApril 2025. https://hbr.org/2025/04/how-people-are-really-using-gen-ai-in-2025.\\nZhao, Wenting, Xiang Ren, Jack Hessel, Claire Cardie, Yejin Choi, and Yuntian Deng,\\n“WildChat: 1M ChatGPT Interaction Logs in the Wild,” 2024.\\n40')],\n",
       " 'response': 'The provided context indicates that the average person primarily uses AI like ChatGPT for requests related to modifying their inputs rather than creating new content. Education is a major use case, with 10.2% of all user messages and 36% of Practical Guidance messages involving tutoring or teaching. Many users also seek general how-to advice on various topics (8.5% overall, 30% of Practical Guidance). Technical help, such as computer programming (4.2%), mathematical calculations (3%), and data analysis (0.4%), is also common. \\n\\nAdditionally, users often engage in self-expression activities, including relationships, personal reflection (1.9%), and games/role play (0.4%), though these are less prevalent. Overall, most interactions involve seeking information, advice, or assistance in performing tasks, highlighting AI’s role in education, practical guidance, technical support, and creative or personal expression.'}"
      ]
     },
     "execution_count": 119,
     "metadata": {},
     "output_type": "execute_result"
    }
   ],
   "source": [
    "compiled_rag_graph.invoke({\"question\" : \"How does the average person use AI?\"})"
   ]
  },
  {
   "cell_type": "markdown",
   "metadata": {
    "id": "gReMizYk8qd-"
   },
   "source": [
    "### RAG Limitation\n",
    "\n",
    "Notice how we're hard-coding our data, while this is simply meant to be an illustrative example - you could easily extend this to work with any provied paper or document in order to have a more dynamic system.\n",
    "\n",
    "For now, we'll stick with this single hard-coded example in order to keep complexity down in an already very long notebook!"
   ]
  },
  {
   "cell_type": "markdown",
   "metadata": {
    "id": "oxkbuir-H5rE"
   },
   "source": [
    "##### 🏗️ Activity #1 (Bonus Marks)\n",
    "\n",
    "Allow the system to dynamically fetch Arxiv papers instead of hard coding them.\n",
    "\n",
    "> HINT: Tuesday's assignment will be very useful here."
   ]
  },
  {
   "cell_type": "markdown",
   "metadata": {
    "id": "7U6a_pqQ9uWf"
   },
   "source": [
    "## Task 2: Helper Functions for Agent Graphs\n",
    "\n",
    "We'll be using a number of agents, nodes, and supervisors in the rest of the notebook - and so it will help to have a collection of useful helper functions that we can leverage to make our lives easier going forward.\n",
    "\n",
    "Let's start with the most simple one!"
   ]
  },
  {
   "cell_type": "markdown",
   "metadata": {
    "id": "IDUnpEEl-L_F"
   },
   "source": [
    "#### Import Wall\n",
    "\n",
    "Here's a wall of imports we'll be needing going forward!"
   ]
  },
  {
   "cell_type": "code",
   "execution_count": 120,
   "metadata": {
    "id": "TbzoL3Q3-SG1"
   },
   "outputs": [],
   "source": [
    "from typing import Any, Callable, List, Optional, TypedDict, Union\n",
    "\n",
    "from langchain.agents import AgentExecutor, create_openai_functions_agent\n",
    "from langchain.output_parsers.openai_functions import JsonOutputFunctionsParser\n",
    "from langchain_core.prompts import ChatPromptTemplate, MessagesPlaceholder\n",
    "from langchain_core.messages import AIMessage, BaseMessage, HumanMessage\n",
    "from langchain_core.runnables import Runnable\n",
    "from langchain_core.tools import BaseTool\n",
    "from langchain_openai import ChatOpenAI\n",
    "\n",
    "from langgraph.graph import END, StateGraph"
   ]
  },
  {
   "cell_type": "markdown",
   "metadata": {
    "id": "qb6Z3EEz-Asi"
   },
   "source": [
    "### Agent Node Helper\n",
    "\n",
    "Since we're going to be wrapping each of our agents into a node - it will help to have an easy way to create the node!"
   ]
  },
  {
   "cell_type": "code",
   "execution_count": 121,
   "metadata": {
    "id": "5IF7KWfS-JKd"
   },
   "outputs": [],
   "source": [
    "def agent_node(state, agent, name):\n",
    "    result = agent.invoke(state)\n",
    "    return {\"messages\": [HumanMessage(content=result[\"output\"], name=name)]}"
   ]
  },
  {
   "cell_type": "markdown",
   "metadata": {
    "id": "fwND2teK-WHm"
   },
   "source": [
    "### Agent Creation Helper Function\n",
    "\n",
    "Since we know we'll need to create agents to populate our agent nodes, let's use a helper function for that as well!\n",
    "\n",
    "Notice a few things:\n",
    "\n",
    "1. We have a standard suffix to append to our system messages for each agent to handle the tool calling and boilerplate prompting.\n",
    "2. Each agent has its our scratchpad.\n",
    "3. We're relying on OpenAI's function-calling API for tool selection\n",
    "4. Each agent is its own executor."
   ]
  },
  {
   "cell_type": "code",
   "execution_count": 122,
   "metadata": {
    "id": "NxLyHJt5-eUx"
   },
   "outputs": [],
   "source": [
    "def create_agent(\n",
    "    llm: ChatOpenAI,\n",
    "    tools: list,\n",
    "    system_prompt: str,\n",
    ") -> str:\n",
    "    \"\"\"Create a function-calling agent and add it to the graph.\"\"\"\n",
    "    system_prompt += (\"\\nWork autonomously according to your specialty, using the tools available to you.\"\n",
    "    \" Do not ask for clarification.\"\n",
    "    \" Your other team members (and other teams) will collaborate with you with their own specialties.\"\n",
    "    \" You are chosen for a reason!\")\n",
    "    prompt = ChatPromptTemplate.from_messages(\n",
    "        [\n",
    "            (\n",
    "                \"system\",\n",
    "                system_prompt,\n",
    "            ),\n",
    "            MessagesPlaceholder(variable_name=\"messages\"),\n",
    "            MessagesPlaceholder(variable_name=\"agent_scratchpad\"),\n",
    "        ]\n",
    "    )\n",
    "    agent = create_openai_functions_agent(llm, tools, prompt)\n",
    "    executor = AgentExecutor(agent=agent, tools=tools)\n",
    "    return executor"
   ]
  },
  {
   "cell_type": "markdown",
   "metadata": {
    "id": "S6kmlR9d-1K5"
   },
   "source": [
    "### Supervisor Helper Function\n",
    "\n",
    "Finally, we need a \"supervisor\" that decides and routes tasks to specific agents.\n",
    "\n",
    "Since each \"team\" will have a collection of potential agents - this \"supervisor\" will act as an \"intelligent\" router to make sure that the right agent is selected for the right task.\n",
    "\n",
    "Notice that, at the end of the day, this \"supervisor\" is simply directing who acts next - or if the state is considered \"done\"."
   ]
  },
  {
   "cell_type": "code",
   "execution_count": 123,
   "metadata": {
    "id": "S2MXA83mrYE2"
   },
   "outputs": [],
   "source": [
    "def create_team_supervisor(llm: ChatOpenAI, system_prompt, members) -> str:\n",
    "    \"\"\"An LLM-based router.\"\"\"\n",
    "    options = [\"FINISH\"] + members\n",
    "    function_def = {\n",
    "        \"name\": \"route\",\n",
    "        \"description\": \"Select the next role.\",\n",
    "        \"parameters\": {\n",
    "            \"title\": \"routeSchema\",\n",
    "            \"type\": \"object\",\n",
    "            \"properties\": {\n",
    "                \"next\": {\n",
    "                    \"title\": \"Next\",\n",
    "                    \"anyOf\": [\n",
    "                        {\"enum\": options},\n",
    "                    ],\n",
    "                },\n",
    "            },\n",
    "            \"required\": [\"next\"],\n",
    "        },\n",
    "    }\n",
    "    prompt = ChatPromptTemplate.from_messages(\n",
    "        [\n",
    "            (\"system\", system_prompt),\n",
    "            MessagesPlaceholder(variable_name=\"messages\"),\n",
    "            (\n",
    "                \"system\",\n",
    "                \"Given the conversation above, who should act next?\"\n",
    "                \" Or should we FINISH? Select one of: {options}\",\n",
    "            ),\n",
    "        ]\n",
    "    ).partial(options=str(options), team_members=\", \".join(members))\n",
    "    return (\n",
    "        prompt\n",
    "        | llm.bind_functions(functions=[function_def], function_call=\"route\")\n",
    "        | JsonOutputFunctionsParser()\n",
    "    )"
   ]
  },
  {
   "cell_type": "markdown",
   "metadata": {
    "id": "jd0zfyq48jKb"
   },
   "source": [
    "## Task 3: Research Team - A LangGraph for Researching AI Usage Policy\n",
    "\n",
    "Now that we have our RAG chain set-up and some awesome helper functions, we want to create a LangGraph related to researching a specific topic, in this case: How People Use AI!\n",
    "\n",
    "We're going to start by equipping our Research Team with a few tools:\n",
    "\n",
    "1. Tavily Search - aka \"Google\", for the most up to date information possible.\n",
    "2. Our RAG chain - specific and high quality information about our topic.\n",
    "\n",
    "Let's create those tools now!"
   ]
  },
  {
   "cell_type": "markdown",
   "metadata": {
    "id": "VNsVTZrH_alw"
   },
   "source": [
    "### Tool Creation\n",
    "\n",
    "As you can see below, some tools already come pre-packaged ready to use!"
   ]
  },
  {
   "cell_type": "code",
   "execution_count": 124,
   "metadata": {
    "id": "ce7FKTZDgAWG"
   },
   "outputs": [],
   "source": [
    "from langchain_community.tools.tavily_search import TavilySearchResults\n",
    "\n",
    "tavily_tool = TavilySearchResults(max_results=5)"
   ]
  },
  {
   "cell_type": "markdown",
   "metadata": {
    "id": "NIR7cbTL9agM"
   },
   "source": [
    "Creating a custom tool, however, is very straightforward.\n",
    "\n",
    "> NOTE: You *must* include a docstring, as that is what the LLM will consider when deciding when to use this tool."
   ]
  },
  {
   "cell_type": "code",
   "execution_count": 125,
   "metadata": {
    "id": "sSwO2L_UqFhm"
   },
   "outputs": [],
   "source": [
    "from typing import Annotated, List, Tuple, Union\n",
    "from langchain_core.tools import tool\n",
    "\n",
    "@tool\n",
    "def retrieve_information(\n",
    "    query: Annotated[str, \"query to ask the retrieve information tool\"]\n",
    "    ):\n",
    "  \"\"\"Use Retrieval Augmented Generation to retrieve information about how people use AI\"\"\"\n",
    "  return compiled_rag_graph.invoke({\"question\" : query})"
   ]
  },
  {
   "cell_type": "markdown",
   "metadata": {
    "id": "nxsMnqjpBTCj"
   },
   "source": [
    "> NOTE: We could just as easily use the LCEL chain directly, since nodes can be LCEL objects - but creating a tool helps explain the tool creation process at the same time."
   ]
  },
  {
   "cell_type": "markdown",
   "metadata": {
    "id": "oDHCajO4_gB2"
   },
   "source": [
    "### Research Team State\n",
    "\n",
    "Since we're using LangGraph - we're going to need state!\n",
    "\n",
    "Let's look at how we've created our state below."
   ]
  },
  {
   "cell_type": "code",
   "execution_count": 126,
   "metadata": {
    "id": "mXminK9d_1fa"
   },
   "outputs": [],
   "source": [
    "import functools\n",
    "import operator\n",
    "\n",
    "from langchain_core.messages import AIMessage, BaseMessage, HumanMessage\n",
    "from langchain_openai.chat_models import ChatOpenAI\n",
    "import functools\n",
    "\n",
    "class ResearchTeamState(TypedDict):\n",
    "    messages: Annotated[List[BaseMessage], operator.add]\n",
    "    team_members: List[str]\n",
    "    next: str"
   ]
  },
  {
   "cell_type": "markdown",
   "metadata": {
    "id": "fvPM5msq_18C"
   },
   "source": [
    "Notice how we've used `messages`, `team_members`, and `next`.\n",
    "\n",
    "These states will help us understand:\n",
    "\n",
    "1. What we've done so far (`messages`)\n",
    "2. Which team members we have access to (`team_members`)\n",
    "3. Which team member is up next! (`next`)"
   ]
  },
  {
   "cell_type": "markdown",
   "metadata": {
    "id": "Mu7B_6qHAFjK"
   },
   "source": [
    "### Research Team LLM\n",
    "\n",
    "We'll be using `gpt-4o-mini` today. This LLM is going to be doing a lot of reasoning - but we also want to keep our costs down, so we'll use a lightweight; but powerful, model!"
   ]
  },
  {
   "cell_type": "code",
   "execution_count": 127,
   "metadata": {
    "id": "dTNqrip8AcKR"
   },
   "outputs": [],
   "source": [
    "research_llm = ChatOpenAI(model=\"gpt-4o-mini\")"
   ]
  },
  {
   "cell_type": "markdown",
   "metadata": {
    "id": "pfb_VCNKIy9w"
   },
   "source": [
    "##### ❓ Question #1:\n",
    "\n",
    "1. Why is a \"powerful\" LLM important for this use-case?\n",
    "\n",
    "2. What tasks must our Agent perform that make it such that the LLM's reasoning capability is a potential limiter?\n",
    "\n",
    "##### ✅ Answers:\n",
    "\n",
    "1.1 YOUR ANSWER HERE\n",
    "\n",
    "A powerful LLM is really needed in our situation to reliably handle this multi-step/node, multi-agent orchestration as a supervisor, accurate tool selection (Tavily vs RAG so far), and mixing evidence from multippe resources into coherent outputs. A powerful LLM in our context will also improve how it follows the constraints: ex. “use only provided context”. It could also reduce hallucinations, and support larger, longer, and more in-depth documents and context.\n",
    "\n",
    "1.2 YOUR ANSWER HERE\n",
    "\n",
    "In this assignment, the Agent must:\n",
    "- decide which tool/agent to use and when\n",
    "- understand the larger task and decompose into smaller tasks (aka, needs to reason well)\n",
    "- integrate our RAG chunks with the live web results from Tavily\n",
    "\n",
    "A weaker model could misroute (this is huge for quality, accuracy, and all!!), misuse the tools, and just provide low-quality outputs due to such mishandling."
   ]
  },
  {
   "cell_type": "markdown",
   "metadata": {
    "id": "ZR_1LuMKAekf"
   },
   "source": [
    "### Research Team Agents & Nodes\n",
    "\n",
    "Now we can use our helper functions to create our agent nodes, with their related tools.\n",
    "\n",
    "Let's start with our search agent node."
   ]
  },
  {
   "cell_type": "markdown",
   "metadata": {
    "id": "uzx6wuPoAlPq"
   },
   "source": [
    "#### Research Team: Search Agent\n",
    "\n",
    "We're going to give our agent access to the Tavily tool, power it with our GPT-4o Mini model, and then create its node - and name it `Search`."
   ]
  },
  {
   "cell_type": "code",
   "execution_count": 128,
   "metadata": {
    "id": "FIlLPxj7Atpj"
   },
   "outputs": [],
   "source": [
    "search_agent = create_agent(\n",
    "    research_llm,\n",
    "    [tavily_tool],\n",
    "    \"You are a research assistant who can search for up-to-date info using the tavily search engine.\",\n",
    ")\n",
    "search_node = functools.partial(agent_node, agent=search_agent, name=\"Search\")"
   ]
  },
  {
   "cell_type": "markdown",
   "metadata": {
    "id": "emLtesudA9Dd"
   },
   "source": [
    "#### Research Team: RAG Agent Node\n",
    "\n",
    "Now we can wrap our LCEL RAG pipeline in an agent node as well, using the LCEL RAG pipeline as the tool, as created above."
   ]
  },
  {
   "cell_type": "code",
   "execution_count": 129,
   "metadata": {
    "id": "z-nnAG9XA_p7"
   },
   "outputs": [],
   "source": [
    "research_agent = create_agent(\n",
    "    research_llm,\n",
    "    [retrieve_information],\n",
    "    \"You are a research assistant who can provide specific information on how people use AI\",\n",
    ")\n",
    "research_node = functools.partial(agent_node, agent=research_agent, name=\"HowPeopleUseAIRetriever\")"
   ]
  },
  {
   "cell_type": "markdown",
   "metadata": {
    "id": "dA5z6T1CBeSc"
   },
   "source": [
    "### Research Team Supervisor Agent\n",
    "\n",
    "Notice that we're not yet creating our supervisor *node*, simply the agent here.\n",
    "\n",
    "Also notice how we need to provide a few extra pieces of information - including which tools we're using.\n",
    "\n",
    "> NOTE: It's important to use the *exact* tool name, as that is how the LLM will reference the tool. Also, it's important that your tool name is all a single alphanumeric string!\n",
    "\n"
   ]
  },
  {
   "cell_type": "code",
   "execution_count": 130,
   "metadata": {
    "id": "J0g8CQMBrtFs"
   },
   "outputs": [],
   "source": [
    "research_supervisor_agent = create_team_supervisor(\n",
    "    research_llm,\n",
    "    (\"You are a supervisor tasked with managing a conversation between the\"\n",
    "    \" following workers:  Search, HowPeopleUseAIRetriever. Given the following user request,\"\n",
    "    \" determine the subject to be researched and respond with the worker to act next. Each worker will perform a\"\n",
    "    \" task and respond with their results and status. \"\n",
    "    \" You should never ask your team to do anything beyond research. They are not required to write content or posts.\"\n",
    "    \" You should only pass tasks to workers that are specifically research focused.\"\n",
    "    \" When finished, respond with FINISH.\"),\n",
    "    [\"Search\", \"HowPeopleUseAIRetriever\"],\n",
    ")"
   ]
  },
  {
   "cell_type": "markdown",
   "metadata": {
    "id": "qohn0DcgB_U1"
   },
   "source": [
    "### Research Team Graph Creation\n",
    "\n",
    "Now that we have our research team agent nodes created, and our supervisor agent - let's finally construct our graph!\n",
    "\n",
    "We'll start by creating our base graph from our state, and then adding the nodes/agent we've created as nodes on our LangGraph."
   ]
  },
  {
   "cell_type": "code",
   "execution_count": 131,
   "metadata": {
    "id": "p0s2GAgJCN8G"
   },
   "outputs": [
    {
     "data": {
      "text/plain": [
       "<langgraph.graph.state.StateGraph at 0x136b849e0>"
      ]
     },
     "execution_count": 131,
     "metadata": {},
     "output_type": "execute_result"
    }
   ],
   "source": [
    "research_graph = StateGraph(ResearchTeamState)\n",
    "\n",
    "research_graph.add_node(\"Search\", search_node)\n",
    "research_graph.add_node(\"HowPeopleUseAIRetriever\", research_node)\n",
    "research_graph.add_node(\"ResearchSupervisor\", research_supervisor_agent)"
   ]
  },
  {
   "cell_type": "markdown",
   "metadata": {
    "id": "33qixRGNCaAX"
   },
   "source": [
    "Now we can define our edges - include our conditional edge from our supervisor to our agent nodes.\n",
    "\n",
    "Notice how we're always routing our agent nodes back to our supervisor!"
   ]
  },
  {
   "cell_type": "code",
   "execution_count": 132,
   "metadata": {
    "id": "yYSJIhijsGyg"
   },
   "outputs": [
    {
     "data": {
      "text/plain": [
       "<langgraph.graph.state.StateGraph at 0x136b849e0>"
      ]
     },
     "execution_count": 132,
     "metadata": {},
     "output_type": "execute_result"
    }
   ],
   "source": [
    "research_graph.add_edge(\"Search\", \"ResearchSupervisor\") \n",
    "research_graph.add_edge(\"HowPeopleUseAIRetriever\", \"ResearchSupervisor\")\n",
    "research_graph.add_conditional_edges(\n",
    "    \"ResearchSupervisor\",\n",
    "    lambda x: x[\"next\"],\n",
    "    {\"Search\": \"Search\", \"HowPeopleUseAIRetriever\": \"HowPeopleUseAIRetriever\", \"FINISH\": END},\n",
    ")\n",
    "research_graph.set_entry_point(\"ResearchSupervisor\")"
   ]
  },
  {
   "cell_type": "markdown",
   "metadata": {
    "id": "hgGcuZzkCj1-"
   },
   "source": [
    "Now we can set our supervisor node as the entry point, and compile our graph!"
   ]
  },
  {
   "cell_type": "code",
   "execution_count": 133,
   "metadata": {
    "id": "1l-1I2Z3CnPX"
   },
   "outputs": [],
   "source": [
    "compiled_research_graph = research_graph.compile()"
   ]
  },
  {
   "cell_type": "markdown",
   "metadata": {
    "id": "GDwQpYTSEY13"
   },
   "source": [
    "#### Display Graph"
   ]
  },
  {
   "cell_type": "code",
   "execution_count": 134,
   "metadata": {},
   "outputs": [
    {
     "data": {
      "text/markdown": [
       "```mermaid\n",
       "---\n",
       "config:\n",
       "  flowchart:\n",
       "    curve: linear\n",
       "---\n",
       "graph TD;\n",
       "\t__start__([<p>__start__</p>]):::first\n",
       "\tSearch(Search)\n",
       "\tHowPeopleUseAIRetriever(HowPeopleUseAIRetriever)\n",
       "\tResearchSupervisor(ResearchSupervisor)\n",
       "\t__end__([<p>__end__</p>]):::last\n",
       "\tHowPeopleUseAIRetriever --> ResearchSupervisor;\n",
       "\tResearchSupervisor -.-> HowPeopleUseAIRetriever;\n",
       "\tResearchSupervisor -.-> Search;\n",
       "\tResearchSupervisor -. &nbsp;FINISH&nbsp; .-> __end__;\n",
       "\tSearch --> ResearchSupervisor;\n",
       "\t__start__ --> ResearchSupervisor;\n",
       "\tclassDef default fill:#f2f0ff,line-height:1.2\n",
       "\tclassDef first fill-opacity:0\n",
       "\tclassDef last fill:#bfb6fc\n",
       "\n",
       "```"
      ],
      "text/plain": [
       "<IPython.core.display.Markdown object>"
      ]
     },
     "metadata": {},
     "output_type": "display_data"
    }
   ],
   "source": [
    "# compiled_research_graph\n",
    "# compiled_research_graph.get_graph().print_ascii()\n",
    "\n",
    "from langchain_core.runnables.graph_mermaid import MermaidDrawMethod\n",
    "from IPython.display import Markdown, display\n",
    "\n",
    "graph = compiled_research_graph.get_graph()\n",
    "display(Markdown(\"```mermaid\\n\" + graph.draw_mermaid() + \"\\n```\"))\n"
   ]
  },
  {
   "cell_type": "markdown",
   "metadata": {
    "id": "bfRvA2QfCqFL"
   },
   "source": [
    "The next part is key - since we need to \"wrap\" our LangGraph in order for it to be compatible in the following steps - let's create an LCEL chain out of it!\n",
    "\n",
    "This allows us to \"broadcast\" messages down to our Research Team LangGraph!"
   ]
  },
  {
   "cell_type": "code",
   "execution_count": 135,
   "metadata": {
    "id": "1G7hmEINCx3i"
   },
   "outputs": [],
   "source": [
    "def enter_research_chain(message: str):\n",
    "    results = {\n",
    "        \"messages\": [HumanMessage(content=message)],\n",
    "    }\n",
    "    return results\n",
    "\n",
    "research_chain = enter_research_chain | compiled_research_graph"
   ]
  },
  {
   "cell_type": "markdown",
   "metadata": {
    "id": "EGdoCdXWC7Pi"
   },
   "source": [
    "Now, finally, we can take it for a spin!"
   ]
  },
  {
   "cell_type": "code",
   "execution_count": 136,
   "metadata": {
    "colab": {
     "base_uri": "https://localhost:8080/"
    },
    "id": "xIDpFIg2sRUl",
    "outputId": "bb3803d4-5b32-4b0a-c8a1-1a1917425812"
   },
   "outputs": [
    {
     "name": "stdout",
     "output_type": "stream",
     "text": [
      "{'ResearchSupervisor': {'next': 'HowPeopleUseAIRetriever'}}\n",
      "---\n",
      "{'HowPeopleUseAIRetriever': {'messages': [HumanMessage(content='People are using AI, particularly tools like ChatGPT, to enhance their lives in various ways:\\n\\n1. **Information Seeking and Decision Support**: Users leverage AI to obtain personalized information and guidance, which helps in making informed decisions.\\n\\n2. **Education**: Many interact with AI for tutoring and teaching, seeking practical advice on diverse topics and subjects, including technical help with programming, mathematical calculations, and data analysis.\\n\\n3. **Creative Outputs**: AI assists in generating writing, software coding, and other forms of digital content, which is beneficial in various professional settings, especially in white-collar jobs where good written communication is essential.\\n\\n4. **Personal Expression and Reflection**: Users engage with AI for personal insights, relationship advice, and entertainment, including games and role play.\\n\\n5. **Customized Responses**: AI provides tailored solutions, such as workout plans or new product ideas, that cater to individual needs and preferences.\\n\\n6. **Enhanced Productivity**: By assisting with routine tasks, AI enables users to focus on more complex decision-making processes, thereby improving efficiency in both personal and professional contexts.\\n\\nOverall, AI is improving lives by offering customized support, enhancing productivity, and enabling creative and informative activities.', additional_kwargs={}, response_metadata={}, name='HowPeopleUseAIRetriever')]}}\n",
      "---\n",
      "{'ResearchSupervisor': {'next': 'FINISH'}}\n",
      "---\n"
     ]
    }
   ],
   "source": [
    "for s in research_chain.stream(\n",
    "    \"How are people using AI to improve their lives?\", {\"recursion_limit\": 100}\n",
    "):\n",
    "    if \"__end__\" not in s:\n",
    "        print(s)\n",
    "        print(\"---\")"
   ]
  },
  {
   "cell_type": "markdown",
   "metadata": {
    "id": "DHAgsbwIIhwj"
   },
   "source": [
    "##### 🏗️ Activity #2:\n",
    "\n",
    "Using whatever drawing application you wish - please label the flow above on a diagram of your graph.\n",
    "\n",
    "##### ✅ Answer:\n",
    "PLEASE SEE THE FILE `activity_2_labeled_graph.png` in the directory of this notebook file."
   ]
  },
  {
   "cell_type": "markdown",
   "metadata": {
    "id": "eH70eHGlJbq4"
   },
   "source": [
    "##### ❓ Question #2:\n",
    "\n",
    "How could you make sure your Agent uses specific tools that you wish it to use? Are there any ways to concretely set a flow through tools?\n",
    "\n",
    "##### ✅ Answer:\n",
    "\n",
    "YOUR ANSWER HERE\n",
    "\n",
    "Only pass the allowed tools when creating the agent (like `create_agent(..., tools=[<here>])`), and make the instruction explicit in the agent’s system prompt description. You can also isolate a tool by creating its own node. Maybe `HowPeopleUseAIRetriever` and have the supervisor route to that node\n",
    "\n",
    "Force the order in your LangGraph by wiring nodes in the exact sequence we want. Can be donw with `add_sequence([...])` or connect nodes with `add_edge` so each node has only one next step (basically it is unconditional, the only next step is one path).\n"
   ]
  },
  {
   "cell_type": "markdown",
   "metadata": {
    "id": "iktcBorGXmAW"
   },
   "source": [
    "# 🤝 BREAKOUT ROOM #2"
   ]
  },
  {
   "cell_type": "markdown",
   "metadata": {
    "id": "ejsHCZZ2EmwM"
   },
   "source": [
    "## Task 4: Document Writing Team - A LangGraph for Planning, Writing, and Editing a Formal Research Resport.\n",
    "\n",
    "Let's run it all back, this time specifically creating tools, agent nodes, and a graph for Planning, Writing, and Editing a Formal Research Resport!"
   ]
  },
  {
   "cell_type": "markdown",
   "metadata": {},
   "source": [
    "#### Previous Cohort Use Case Data\n",
    "\n",
    "Let's add a retriever for [previous cohort use-case data](./data/AIE7_Projects_with_Domains.csv) here!\n",
    "\n",
    "This will allow our response writing team reference previous responses!"
   ]
  },
  {
   "cell_type": "code",
   "execution_count": 137,
   "metadata": {},
   "outputs": [
    {
     "data": {
      "text/plain": [
       "Document(metadata={'source': 'data/AIE7_Projects_with_Domains.csv', 'row': 0}, page_content='Project Domain: Customer Support / Helpdesk\\nSecondary Domain (if any): Productivity Assistants')"
      ]
     },
     "execution_count": 137,
     "metadata": {},
     "output_type": "execute_result"
    }
   ],
   "source": [
    "from langchain_community.document_loaders import CSVLoader\n",
    "\n",
    "previous_cohort_loader = CSVLoader(\"data/AIE7_Projects_with_Domains.csv\", content_columns=[\"Project Domain\", \"Secondary Domain (if any)\"])\n",
    "previous_cohort = previous_cohort_loader.load()\n",
    "previous_cohort[0]"
   ]
  },
  {
   "cell_type": "code",
   "execution_count": 138,
   "metadata": {},
   "outputs": [],
   "source": [
    "qdrant_previous_cohort_vectorstore = Qdrant.from_documents(\n",
    "    documents=previous_cohort,\n",
    "    embedding=embedding_model,\n",
    "    location=\":memory:\"\n",
    ")"
   ]
  },
  {
   "cell_type": "code",
   "execution_count": 139,
   "metadata": {},
   "outputs": [],
   "source": [
    "qdrant_previous_cohort_retriever = qdrant_previous_cohort_vectorstore.as_retriever()"
   ]
  },
  {
   "cell_type": "markdown",
   "metadata": {
    "id": "4awQtZ-oFUN-"
   },
   "source": [
    "### Tool Creation\n",
    "\n",
    "Let's create some tools that will help us understand, open, work with, and edit documents to our liking!"
   ]
  },
  {
   "cell_type": "code",
   "execution_count": 140,
   "metadata": {
    "id": "ptXilgparOkq"
   },
   "outputs": [],
   "source": [
    "from pathlib import Path\n",
    "from tempfile import TemporaryDirectory\n",
    "from typing import Dict, Optional\n",
    "from typing_extensions import TypedDict\n",
    "import uuid\n",
    "import os\n",
    "\n",
    "os.makedirs('./content/data', exist_ok=True)\n",
    "\n",
    "def create_random_subdirectory():\n",
    "    random_id = str(uuid.uuid4())[:8]  # Use first 8 characters of a UUID\n",
    "    subdirectory_path = os.path.join('./content/data', random_id)\n",
    "    os.makedirs(subdirectory_path, exist_ok=True)\n",
    "    return subdirectory_path\n",
    "\n",
    "WORKING_DIRECTORY = Path(create_random_subdirectory())\n",
    "\n",
    "@tool\n",
    "def create_outline(\n",
    "    points: Annotated[List[str], \"List of main points or sections.\"],\n",
    "    file_name: Annotated[str, \"File path to save the outline.\"],\n",
    ") -> Annotated[str, \"Path of the saved outline file.\"]:\n",
    "    \"\"\"Create and save an outline.\"\"\"\n",
    "    with (WORKING_DIRECTORY / file_name).open(\"w\") as file:\n",
    "        for i, point in enumerate(points):\n",
    "            file.write(f\"{i + 1}. {point}\\n\")\n",
    "    return f\"Outline saved to {file_name}\"\n",
    "\n",
    "\n",
    "@tool\n",
    "def read_document(\n",
    "    file_name: Annotated[str, \"File path to save the document.\"],\n",
    "    start: Annotated[Optional[int], \"The start line. Default is 0\"] = None,\n",
    "    end: Annotated[Optional[int], \"The end line. Default is None\"] = None,\n",
    ") -> str:\n",
    "    \"\"\"Read the specified document.\"\"\"\n",
    "    with (WORKING_DIRECTORY / file_name).open(\"r\") as file:\n",
    "        lines = file.readlines()\n",
    "    if start is not None:\n",
    "        start = 0\n",
    "    return \"\\n\".join(lines[start:end])\n",
    "\n",
    "@tool\n",
    "def write_document(\n",
    "    content: Annotated[str, \"Text content to be written into the document.\"],\n",
    "    file_name: Annotated[str, \"File path to save the document.\"],\n",
    ") -> Annotated[str, \"Path of the saved document file.\"]:\n",
    "    \"\"\"Create and save a text document.\"\"\"\n",
    "    with (WORKING_DIRECTORY / file_name).open(\"w\") as file:\n",
    "        file.write(content)\n",
    "    return f\"Document saved to {file_name}\"\n",
    "\n",
    "### Previous Cohort Use Case Data\n",
    "@tool \n",
    "def reference_previous_responses(\n",
    "    query: Annotated[str, \"The query to search for in the previous responses.\"],\n",
    ") -> Annotated[str, \"The previous responses that match the query.\"]:\n",
    "    \"\"\"Search for previous responses that match the query.\"\"\"\n",
    "    return qdrant_previous_cohort_retriever.invoke(query)\n",
    "\n",
    "\n",
    "@tool\n",
    "def edit_document(\n",
    "    file_name: Annotated[str, \"Path of the document to be edited.\"],\n",
    "    inserts: Annotated[\n",
    "        Dict[int, str],\n",
    "        \"Dictionary where key is the line number (1-indexed) and value is the text to be inserted at that line.\",\n",
    "    ] = {},\n",
    ") -> Annotated[str, \"Path of the edited document file.\"]:\n",
    "    \"\"\"Edit a document by inserting text at specific line numbers.\"\"\"\n",
    "\n",
    "    with (WORKING_DIRECTORY / file_name).open(\"r\") as file:\n",
    "        lines = file.readlines()\n",
    "\n",
    "    sorted_inserts = sorted(inserts.items())\n",
    "\n",
    "    for line_number, text in sorted_inserts:\n",
    "        if 1 <= line_number <= len(lines) + 1:\n",
    "            lines.insert(line_number - 1, text + \"\\n\")\n",
    "        else:\n",
    "            return f\"Error: Line number {line_number} is out of range.\"\n",
    "\n",
    "    with (WORKING_DIRECTORY / file_name).open(\"w\") as file:\n",
    "        file.writelines(lines)\n",
    "\n",
    "    return f\"Document edited and saved to {file_name}\""
   ]
  },
  {
   "cell_type": "markdown",
   "metadata": {
    "id": "n8yH1IAYK7nL"
   },
   "source": [
    "##### 🏗️ Activity #3:\n",
    "\n",
    "Describe, briefly, what each of these tools is doing in your own words.\n",
    "\n",
    "\n",
    "- `create_outline`: Takes a list of points and saves a numbered outline to a file in the working folder.\n",
    "- `read_document`: Opens a saved document and returns its text. Optionally just return the lines between a start and end.\n",
    "- `write_document`: creates or overwrites the given text to a specific file in the working directory.\n",
    "- `reference_previous_responses`: Searches the prior cohort’s use-case data and returns relevant matches to the query.\n",
    "- `edit_document`: Inserts provided text at specific line numbers in a file, modifying the given file. This writes the updated version of the file. Warns if a line number is invalid.\n",
    "\n"
   ]
  },
  {
   "cell_type": "markdown",
   "metadata": {
    "id": "__Jw_XBIFwwa"
   },
   "source": [
    "### Document Writing State\n",
    "\n",
    "Just like with our Research Team state - we want to keep track of a few things, however this time - we also want to keep track of which files we've created - so let's add that here!"
   ]
  },
  {
   "cell_type": "code",
   "execution_count": 141,
   "metadata": {
    "id": "DoU2YwJRu7wD"
   },
   "outputs": [],
   "source": [
    "import operator\n",
    "from pathlib import Path\n",
    "\n",
    "class DocWritingState(TypedDict):\n",
    "    messages: Annotated[List[BaseMessage], operator.add]\n",
    "    team_members: str\n",
    "    next: str\n",
    "    current_files: str"
   ]
  },
  {
   "cell_type": "markdown",
   "metadata": {
    "id": "4p1kQShmGHCh"
   },
   "source": [
    "### Document Writing Prelude Function\n",
    "\n",
    "Since we have a working directory - we want to be clear about what our current working directory looks like - this helper function will allow us to do that cleanly!"
   ]
  },
  {
   "cell_type": "code",
   "execution_count": 142,
   "metadata": {
    "id": "G79mUggQGLVq"
   },
   "outputs": [],
   "source": [
    "def prelude(state):\n",
    "    written_files = []\n",
    "    if not WORKING_DIRECTORY.exists():\n",
    "        WORKING_DIRECTORY.mkdir()\n",
    "    try:\n",
    "        written_files = [\n",
    "            f.relative_to(WORKING_DIRECTORY) for f in WORKING_DIRECTORY.rglob(\"*\")\n",
    "        ]\n",
    "    except:\n",
    "        pass\n",
    "    if not written_files:\n",
    "        return {**state, \"current_files\": \"No files written.\"}\n",
    "    return {\n",
    "        **state,\n",
    "        \"current_files\": \"\\nBelow are files your team has written to the directory:\\n\"\n",
    "        + \"\\n\".join([f\" - {f}\" for f in written_files]),\n",
    "    }"
   ]
  },
  {
   "cell_type": "markdown",
   "metadata": {
    "id": "wbSre9agT9Gb"
   },
   "source": [
    "### Document Writing Node Creation\n",
    "\n"
   ]
  },
  {
   "cell_type": "code",
   "execution_count": 143,
   "metadata": {},
   "outputs": [],
   "source": [
    "authoring_llm = ChatOpenAI(model=\"gpt-4o-mini\")"
   ]
  },
  {
   "cell_type": "code",
   "execution_count": 144,
   "metadata": {
    "id": "v7oso327T_wa"
   },
   "outputs": [],
   "source": [
    "doc_writer_agent = create_agent(\n",
    "    authoring_llm,\n",
    "    [write_document, edit_document, read_document],\n",
    "    (\"You are an expert writing customer assistance responses.\\n\"\n",
    "    \"Below are files currently in your directory:\\n{current_files}\"),\n",
    ")\n",
    "context_aware_doc_writer_agent = prelude | doc_writer_agent\n",
    "doc_writing_node = functools.partial(\n",
    "    agent_node, agent=context_aware_doc_writer_agent, name=\"DocWriter\"\n",
    ")\n",
    "\n",
    "note_taking_agent = create_agent(\n",
    "    authoring_llm,\n",
    "    [create_outline, read_document, reference_previous_responses],\n",
    "    (\"You are an expert senior researcher tasked with writing a customer assistance outline and\"\n",
    "    \" taking notes to craft a customer assistance response.\\n{current_files}\"),\n",
    ")\n",
    "context_aware_note_taking_agent = prelude | note_taking_agent\n",
    "note_taking_node = functools.partial(\n",
    "    agent_node, agent=context_aware_note_taking_agent, name=\"NoteTaker\"\n",
    ")\n",
    "\n",
    "copy_editor_agent = create_agent(\n",
    "    authoring_llm,\n",
    "    [write_document, edit_document, read_document],\n",
    "    (\"You are an expert copy editor who focuses on fixing grammar, spelling, and tone issues\\n\"\n",
    "    \"Below are files currently in your directory:\\n{current_files}\"),\n",
    ")\n",
    "context_aware_copy_editor_agent = prelude | copy_editor_agent\n",
    "copy_editing_node = functools.partial(\n",
    "    agent_node, agent=context_aware_copy_editor_agent, name=\"CopyEditor\"\n",
    ")\n",
    "\n",
    "authoring_supervisor_agent = create_team_supervisor(\n",
    "    authoring_llm,\n",
    "    (\"You are a supervisor tasked with managing a conversation between the\"\n",
    "    \" following workers: {team_members}. You should always verify the technical\"\n",
    "    \" contents after any edits are made. \"\n",
    "    \"Given the following user request,\"\n",
    "    \" respond with the worker to act next. Each worker will perform a\"\n",
    "    \" task and respond with their results and status. When each team is finished,\"\n",
    "    \" you must respond with FINISH.\"),\n",
    "    [\"DocWriter\", \"NoteTaker\", \"CopyEditor\"],\n",
    ")"
   ]
  },
  {
   "cell_type": "markdown",
   "metadata": {
    "id": "AUiNMpJBGXN0"
   },
   "source": [
    "### Document Writing Team LangGraph Construction\n",
    "\n",
    "This part is almost exactly the same (with a few extra nodes) as our Research Team LangGraph construction - so we'll leave it as one block!"
   ]
  },
  {
   "cell_type": "code",
   "execution_count": 145,
   "metadata": {
    "id": "Q6n8A1ytxVTv"
   },
   "outputs": [
    {
     "data": {
      "text/plain": [
       "<langgraph.graph.state.StateGraph at 0x1414f3b50>"
      ]
     },
     "execution_count": 145,
     "metadata": {},
     "output_type": "execute_result"
    }
   ],
   "source": [
    "authoring_graph = StateGraph(DocWritingState)\n",
    "authoring_graph.add_node(\"DocWriter\", doc_writing_node)\n",
    "authoring_graph.add_node(\"NoteTaker\", note_taking_node)\n",
    "authoring_graph.add_node(\"CopyEditor\", copy_editing_node)\n",
    "authoring_graph.add_node(\"AuthoringSupervisor\", authoring_supervisor_agent)\n",
    "\n",
    "authoring_graph.add_edge(\"DocWriter\", \"AuthoringSupervisor\")\n",
    "authoring_graph.add_edge(\"NoteTaker\", \"AuthoringSupervisor\")\n",
    "authoring_graph.add_edge(\"CopyEditor\", \"AuthoringSupervisor\")\n",
    "\n",
    "authoring_graph.add_conditional_edges(\n",
    "    \"AuthoringSupervisor\",\n",
    "    lambda x: x[\"next\"],\n",
    "    {\n",
    "        \"DocWriter\": \"DocWriter\",\n",
    "        \"NoteTaker\": \"NoteTaker\",\n",
    "        \"CopyEditor\" : \"CopyEditor\",\n",
    "        \"FINISH\": END,\n",
    "    },\n",
    ")\n",
    "\n",
    "authoring_graph.set_entry_point(\"AuthoringSupervisor\")"
   ]
  },
  {
   "cell_type": "code",
   "execution_count": 146,
   "metadata": {},
   "outputs": [],
   "source": [
    "compiled_authoring_graph = authoring_graph.compile()"
   ]
  },
  {
   "cell_type": "markdown",
   "metadata": {
    "id": "Zx-EKGkHKUBO"
   },
   "source": [
    "#### Display Graph"
   ]
  },
  {
   "cell_type": "code",
   "execution_count": 147,
   "metadata": {},
   "outputs": [
    {
     "data": {
      "text/markdown": [
       "```mermaid\n",
       "---\n",
       "config:\n",
       "  flowchart:\n",
       "    curve: linear\n",
       "---\n",
       "graph TD;\n",
       "\t__start__([<p>__start__</p>]):::first\n",
       "\tDocWriter(DocWriter)\n",
       "\tNoteTaker(NoteTaker)\n",
       "\tCopyEditor(CopyEditor)\n",
       "\tAuthoringSupervisor(AuthoringSupervisor)\n",
       "\t__end__([<p>__end__</p>]):::last\n",
       "\tAuthoringSupervisor -.-> CopyEditor;\n",
       "\tAuthoringSupervisor -.-> DocWriter;\n",
       "\tAuthoringSupervisor -.-> NoteTaker;\n",
       "\tAuthoringSupervisor -. &nbsp;FINISH&nbsp; .-> __end__;\n",
       "\tCopyEditor --> AuthoringSupervisor;\n",
       "\tDocWriter --> AuthoringSupervisor;\n",
       "\tNoteTaker --> AuthoringSupervisor;\n",
       "\t__start__ --> AuthoringSupervisor;\n",
       "\tclassDef default fill:#f2f0ff,line-height:1.2\n",
       "\tclassDef first fill-opacity:0\n",
       "\tclassDef last fill:#bfb6fc\n",
       "\n",
       "```"
      ],
      "text/plain": [
       "<IPython.core.display.Markdown object>"
      ]
     },
     "metadata": {},
     "output_type": "display_data"
    }
   ],
   "source": [
    "# compiled_authoring_graph\n",
    "\n",
    "from langchain_core.runnables.graph_mermaid import MermaidDrawMethod\n",
    "from IPython.display import Markdown, display\n",
    "\n",
    "graph = compiled_authoring_graph.get_graph()\n",
    "display(Markdown(\"```mermaid\\n\" + graph.draw_mermaid() + \"\\n```\"))"
   ]
  },
  {
   "cell_type": "markdown",
   "metadata": {
    "id": "yB_rOw1hGpwd"
   },
   "source": [
    "Just as before - we'll need to create an \"interface\" between the level above, and our graph."
   ]
  },
  {
   "cell_type": "code",
   "execution_count": 148,
   "metadata": {
    "id": "G-RbbCKoG_nt"
   },
   "outputs": [],
   "source": [
    "def enter_authoring_chain(message: str, members: List[str]):\n",
    "    results = {\n",
    "        \"messages\": [HumanMessage(content=message)],\n",
    "        \"team_members\": \", \".join(members),\n",
    "    }\n",
    "    return results\n",
    "\n",
    "authoring_chain = (\n",
    "    functools.partial(enter_authoring_chain, members=authoring_graph.nodes)\n",
    "    | compiled_authoring_graph\n",
    ")"
   ]
  },
  {
   "cell_type": "markdown",
   "metadata": {
    "id": "GgyhpTrRNgQd"
   },
   "source": [
    "Now we can test this out!\n",
    "\n",
    "> NOTE: It is possible you may see an error here - rerun the cell to clear."
   ]
  },
  {
   "cell_type": "code",
   "execution_count": 149,
   "metadata": {
    "colab": {
     "base_uri": "https://localhost:8080/"
    },
    "id": "IWUxv4XDx3kg",
    "outputId": "62ee7d3d-31ba-4348-b852-7fd96f6875ff"
   },
   "outputs": [
    {
     "name": "stdout",
     "output_type": "stream",
     "text": [
      "{'AuthoringSupervisor': {'next': 'DocWriter'}}\n",
      "---\n",
      "{'DocWriter': {'messages': [HumanMessage(content='The most common use-cases and domains that typically rely on customer assistance responses include:\\n\\n1. **E-commerce**: \\n   - Order inquiries, tracking shipments, return processes, product information, and payment issues.\\n\\n2. **Technology and Software Support**: \\n   - Troubleshooting, installation guides, user account management, feature requests, and software updates.\\n\\n3. **Telecommunications**: \\n   - Service plan inquiries, billing questions, account management, and technical support for devices.\\n\\n4. **Travel and Hospitality**: \\n   - Booking inquiries, cancellations, refunds, loyalty programs, and travel information.\\n\\n5. **Healthcare**: \\n   - Appointment scheduling, insurance inquiries, prescription refills, and health information.\\n\\n6. **Financial Services**: \\n   - Account inquiries, fraud detection, loan applications, and investment advice.\\n\\n7. **Utilities**: \\n   - Bill payments, service outages, new service requests, and energy-saving tips.\\n\\n8. **Education**: \\n   - Enrollment questions, course information, grading inquiries, and tuition payment support.\\n\\n9. **Automotive**: \\n   - Service appointment scheduling, vehicle information, warranty inquiries, and insurance questions.\\n\\nThese domains frequently require prompt and accurate assistance to ensure customer satisfaction and retention.', additional_kwargs={}, response_metadata={}, name='DocWriter')]}}\n",
      "---\n",
      "{'AuthoringSupervisor': {'next': 'NoteTaker'}}\n",
      "---\n",
      "{'NoteTaker': {'messages': [HumanMessage(content='I have created an outline detailing the common use-cases and domains for customer assistance. The following sections are included:\\n\\n1. E-commerce\\n2. Technology and Software Support\\n3. Telecommunications\\n4. Travel and Hospitality\\n5. Healthcare\\n6. Financial Services\\n7. Utilities\\n8. Education\\n9. Automotive\\n\\nThe outline has been saved to a file named **customer_assistance_use_cases_outline.txt**.', additional_kwargs={}, response_metadata={}, name='NoteTaker')]}}\n",
      "---\n",
      "{'AuthoringSupervisor': {'next': 'CopyEditor'}}\n",
      "---\n",
      "{'CopyEditor': {'messages': [HumanMessage(content='I have enhanced the outline in **customer_assistance_use_cases_outline.txt** by adding detailed descriptions for each common use-case and domain of customer assistance. The document now provides a comprehensive overview of what each domain entails regarding customer queries.', additional_kwargs={}, response_metadata={}, name='CopyEditor')]}}\n",
      "---\n",
      "{'AuthoringSupervisor': {'next': 'DocWriter'}}\n",
      "---\n",
      "{'DocWriter': {'messages': [HumanMessage(content='I have enhanced the outline in the **customer_assistance_use_cases_outline.txt** by adding detailed descriptions for each common use-case and domain of customer assistance. The document now provides a comprehensive overview of what each domain entails regarding customer queries, ensuring it is a valuable resource for understanding customer assistance needs.', additional_kwargs={}, response_metadata={}, name='DocWriter')]}}\n",
      "---\n",
      "{'AuthoringSupervisor': {'next': 'FINISH'}}\n",
      "---\n"
     ]
    }
   ],
   "source": [
    "for s in authoring_chain.stream(\n",
    "    \"What are the most common use-cases in this data. What are the most common domains?\",\n",
    "    {\"recursion_limit\": 100},\n",
    "):\n",
    "    if \"__end__\" not in s:\n",
    "        print(s)\n",
    "        print(\"---\")"
   ]
  },
  {
   "cell_type": "markdown",
   "metadata": {
    "id": "zpW2R9SUHGUq"
   },
   "source": [
    "## Task 5: Meta-Supervisor and Full Graph\n",
    "\n",
    "Finally, now that we have our two LangGraph agents (some of which are already multi-agent), we can build a supervisor that sits above all of them!\n",
    "\n",
    "The final process, surprisingly, is quite straight forward!\n",
    "\n",
    "Let's jump in!\n",
    "\n",
    "First off - we'll need to create our supervisor agent node."
   ]
  },
  {
   "cell_type": "code",
   "execution_count": 164,
   "metadata": {
    "id": "wkpxeUf9ygKp"
   },
   "outputs": [],
   "source": [
    "from langchain_core.messages import AIMessage, BaseMessage, HumanMessage\n",
    "from langchain_openai.chat_models import ChatOpenAI\n",
    "\n",
    "super_llm = ChatOpenAI(model=\"gpt-4o-mini\")\n",
    "\n",
    "# super_supervisor_agent = create_team_supervisor(\n",
    "#     super_llm,\n",
    "#     \"You are a supervisor tasked with managing a conversation between the\"\n",
    "#     \" following teams: {team_members}. Given the following user request,\"\n",
    "#     \" respond with the worker to act next. Each worker will perform a\"\n",
    "#     \" task and respond with their results and status. When all workers are finished,\"\n",
    "#     \" you must respond with FINISH.\",\n",
    "#     [\"Research team\", \"Response team\"],\n",
    "# )\n",
    "\n",
    "super_supervisor_agent = create_team_supervisor(\n",
    "    super_llm,\n",
    "    (\"You must run BOTH teams in order: first Research team, then Response team. \"\n",
    "     \"Do not FINISH until the Response team has saved non-empty \"\n",
    "     'markdown in the working directory.'),\n",
    "    [\"Research team\", \"Response team\"],\n",
    ")"
   ]
  },
  {
   "cell_type": "markdown",
   "metadata": {
    "id": "hUvOh_xWIKig"
   },
   "source": [
    "We'll also create our new state - as well as some methods to help us navigate the new state and the subgraphs.\n",
    "\n",
    "> NOTE: We only pass the most recent message from the parent graph to the subgraph, and we only extract the most recent message from the subgraph to include in the state of the parent graph."
   ]
  },
  {
   "cell_type": "code",
   "execution_count": 165,
   "metadata": {
    "id": "O7HJ8MF0yh_i"
   },
   "outputs": [],
   "source": [
    "class State(TypedDict):\n",
    "    messages: Annotated[List[BaseMessage], operator.add]\n",
    "    next: str\n",
    "\n",
    "def get_last_message(state: State) -> str:\n",
    "    return state[\"messages\"][-1].content\n",
    "\n",
    "def join_graph(response: dict):\n",
    "    return {\"messages\": [response[\"messages\"][-1]]}"
   ]
  },
  {
   "cell_type": "markdown",
   "metadata": {
    "id": "B5RHao1sIanG"
   },
   "source": [
    "Next, we'll create our base graph.\n",
    "\n",
    "Notice how each node we're adding is *AN ENTIRE LANGGRAPH AGENT* (wrapped into an LCEL chain with our helper functions above)."
   ]
  },
  {
   "cell_type": "code",
   "execution_count": 166,
   "metadata": {
    "id": "PfCWABCMIaFy"
   },
   "outputs": [
    {
     "data": {
      "text/plain": [
       "<langgraph.graph.state.StateGraph at 0x1254d7a10>"
      ]
     },
     "execution_count": 166,
     "metadata": {},
     "output_type": "execute_result"
    }
   ],
   "source": [
    "super_graph = StateGraph(State)\n",
    "\n",
    "super_graph.add_node(\"Research team\", get_last_message | research_chain | join_graph)\n",
    "super_graph.add_node(\"Response team\", get_last_message | authoring_chain | join_graph)\n",
    "super_graph.add_node(\"SuperSupervisor\", super_supervisor_agent)"
   ]
  },
  {
   "cell_type": "markdown",
   "metadata": {
    "id": "dpwpUXMtI62E"
   },
   "source": [
    "Next, we'll create our edges!\n",
    "\n",
    "This process is completely idenctical to what we've seen before - just addressing the LangGraph subgraph nodes instead of individual nodes."
   ]
  },
  {
   "cell_type": "code",
   "execution_count": 167,
   "metadata": {
    "id": "tLtjRuUYI-fx"
   },
   "outputs": [
    {
     "data": {
      "text/plain": [
       "<langgraph.graph.state.StateGraph at 0x1254d7a10>"
      ]
     },
     "execution_count": 167,
     "metadata": {},
     "output_type": "execute_result"
    }
   ],
   "source": [
    "super_graph.add_edge(\"Research team\", \"SuperSupervisor\")\n",
    "super_graph.add_edge(\"Response team\", \"SuperSupervisor\")\n",
    "super_graph.add_conditional_edges(\n",
    "    \"SuperSupervisor\",\n",
    "    lambda x: x[\"next\"],\n",
    "    {\n",
    "        \"Response team\": \"Response team\",\n",
    "        \"Research team\": \"Research team\",\n",
    "        \"FINISH\": END,\n",
    "    },\n",
    ")\n",
    "super_graph.set_entry_point(\"SuperSupervisor\")"
   ]
  },
  {
   "cell_type": "code",
   "execution_count": 168,
   "metadata": {},
   "outputs": [
    {
     "data": {
      "image/png": "[encoded data removed]",
      "text/plain": [
       "<langgraph.graph.state.CompiledStateGraph object at 0x1369bef10>"
      ]
     },
     "execution_count": 168,
     "metadata": {},
     "output_type": "execute_result"
    }
   ],
   "source": [
    "compiled_super_graph = super_graph.compile()\n",
    "compiled_super_graph"
   ]
  },
  {
   "cell_type": "markdown",
   "metadata": {
    "id": "K1KMfFqgJKw8"
   },
   "source": [
    "That's it!\n",
    "\n",
    "Now we can finally use our full agent!"
   ]
  },
  {
   "cell_type": "code",
   "execution_count": null,
   "metadata": {
    "colab": {
     "base_uri": "https://localhost:8080/"
    },
    "id": "3M6wUDR-yk8s",
    "outputId": "056fe89e-5a81-4852-f0cb-35367da8cef0"
   },
   "outputs": [
    {
     "name": "stdout",
     "output_type": "stream",
     "text": [
      "{'SuperSupervisor': {'next': 'Research team'}}\n",
      "---\n",
      "{'Research team': {'messages': [HumanMessage(content='# Report on the Rise of Context Engineering in the LLM Space in 2025\\n\\n## Introduction\\n\\nAs we navigate through 2025, the realm of Artificial Intelligence (AI)—particularly in the context of Large Language Models (LLMs)—is experiencing a significant paradigm shift. This shift, encapsulated by the term \"context engineering,\" is redefining how developers and businesses utilize AI, moving beyond traditional prompt engineering into more sophisticated and structured methodologies.\\n\\n## What is Context Engineering?\\n\\nContext engineering is described as the \"delicate art and science\" of meticulously filling an LLM\\'s context window with optimal information tailored for specific tasks. It combines structured data, external tools, memory management, and relevant task details, going well beyond merely crafting prompts. This practice positions context engineering as the foundational layer for reliable and autonomous AI systems in 2025.\\n\\n### Key Aspects of Context Engineering\\n\\n1. **Architectural Design**: Instead of focusing solely on prompts, context engineering emphasizes creating a comprehensive environment in which LLMs operate. Developers are encouraged to use established software engineering principles—like control flow and stateless design—to build robust applications that leverage AI efficiently.\\n\\n2. **Dynamic Information Curation**: Context engineers actively curate data from various sources (memory, databases, tools) tailored to the specific needs of the task at hand. This process involves selecting relevant context, summarizing information, and incorporating past interaction records for more precise decision-making and output quality.\\n\\n3. **Contextual Intelligence**: The evolution of LLMs toward a more profound contextual understanding can be seen through models that can now process thousands of tokens efficiently, such as GPT-4 and Claude 4. This enhancement allows AI to utilize extensive datasets, like entire books or multi-hour transcripts, to inform its decisions, effectively creating a more knowledgeable assistant.\\n\\n## Impacts on AI Utilization\\n\\nThe rise of context engineering is reshaping how organizations integrate AI into their workflows:\\n\\n1. **Enhanced Performance**: By meticulously structuring context, AI systems become more accurate, capable, and user-centric. For instance, a context-engineered scheduling assistant would consider user availability, past interactions, and external calendar tools before formulating a response. This leads to a more reliable user experience.\\n\\n2. **Cost Efficiency**: Context engineering is not just about improving outcomes; it also optimizes resource usage. Organizations can anticipate reductions in overhead by using these strategies to manage operating costs while achieving high-quality outputs.\\n\\n3. **New Skillsets**: The shift from prompt engineering to context engineering is demanding new skillsets among AI practitioners. Understanding how to design dynamic systems that provide the right tools and information is becoming essential.\\n\\n4. **Adaptive Systems**: Context engineering empowers the development of adaptive AI systems that learn and evolve based on user interactions and historical data. This capability enhances the long-term viability of AI applications across various industries.\\n\\n5. **Competitive Advantage**: Organizations leveraging context engineering can develop superior AI tools that outperform those relying on traditional prompt-based methods. This competitive edge may render many existing AI teams obsolete, stressing the need for businesses to adapt quickly to this burgeoning paradigm.\\n\\n## How People Are Using AI\\n\\nIn 2025, the application of context engineering has led to innovative uses of AI across different sectors. Some notable contributions include:\\n\\n- **Decision Support in Knowledge-Intensive Jobs**: AI tools are increasingly used as decision support for professionals in high-skill jobs, enhancing productivity and the ability to make informed choices. This trend underscores the importance of context when integrating AI into knowledge workflows.\\n\\n- **Creating AI Co-Pilots**: Organizations are beginning to deploy AI agents not just as mere responders but as interactive co-pilots that assist human workers in navigating complex tasks. This shift reflects the evolution towards collaborative AI that works alongside human expertise.\\n\\n- **Enhancing User Engagement**: With systems more attuned to user context, businesses are using AI to manage customer relationships by personalizing interactions, analyzing feedback, and adapting responses based on real-time data.\\n\\n## Conclusion\\n\\nAs we progress through 2025, context engineering is emerging as a pivotal component in the advancement of LLMs. This practice transforms AI from a collection of vague prompts into intelligent, structured agents capable of performing complex tasks with nuance and accuracy. The implications for industries leveraging AI are profound, promising improved user experiences, reduced costs, and a significant evolution in how AI-powered applications are designed and implemented. Organizations must now adapt to these changes to remain competitive in the rapidly evolving AI landscape. \\n\\nThis report highlights not only the rise of context engineering but also illustrates how it\\'s shaping the ways that individuals and organizations utilize AI for enhanced productivity and innovation.', additional_kwargs={}, response_metadata={}, name='HowPeopleUseAIRetriever')]}}\n",
      "---\n",
      "{'SuperSupervisor': {'next': 'Response team'}}\n",
      "---\n",
      "{'Response team': {'messages': [HumanMessage(content=\"I've created and saved the outline for the report on the rise of context engineering in the LLM space in 2025. If you need any further assistance or additional documents, just let me know!\", additional_kwargs={}, response_metadata={}, name='NoteTaker')]}}\n",
      "---\n",
      "{'SuperSupervisor': {'next': 'Response team'}}\n",
      "---\n",
      "{'Response team': {'messages': [HumanMessage(content='The report on the rise of context engineering in the LLM space for 2025 has been successfully edited to enhance clarity, correct any grammatical errors, and refine the overall tone. The following adjustments were made based on the suggested improvements:\\n\\n1. **Expanded on Key Instruments**: The \"Dynamic Information Curation\" section was elaborated to include more specific details on tools involved in the curation process.\\n\\n2. **Added Visual Aids**: Suggestions for diagrams or charts have been included to illustrate key concepts in the report.\\n\\n3. **Incorporated Case Studies**: Real-world examples of context engineering applications have been integrated to provide concrete evidence of its benefits.\\n\\n4. **Discussed Future Projections**: The conclusion now includes potential advancements in context engineering beyond 2025.\\n\\nIf you need further modifications or want to add more information, feel free to let me know!', additional_kwargs={}, response_metadata={}, name='CopyEditor')]}}\n",
      "---\n",
      "{'SuperSupervisor': {'next': 'Response team'}}\n",
      "---\n",
      "{'Response team': {'messages': [HumanMessage(content=\"The report on the rise of context engineering in the LLM space for 2025 has been successfully saved with the enhancements made. If there's anything else you would like to add or modify, just let me know!\", additional_kwargs={}, response_metadata={}, name='DocWriter')]}}\n",
      "---\n",
      "{'SuperSupervisor': {'next': 'FINISH'}}\n",
      "---\n"
     ]
    }
   ],
   "source": [
    "WORKING_DIRECTORY = Path(create_random_subdirectory())\n",
    "\n",
    "\n",
    "for s in compiled_super_graph.stream(\n",
    "    {\n",
    "        \"messages\": [\n",
    "            HumanMessage(\n",
    "                content=\"Write a report on the rise of context engineering in the LLM Space in 2025, and how it's impacting how people are using AI. Use both the research team and the response team to create the report.\"\n",
    "                # content=msg\n",
    "            )\n",
    "        ],\n",
    "    },\n",
    "    {\"recursion_limit\": 30},\n",
    "):\n",
    "    if \"__end__\" not in s:\n",
    "        print(s)\n",
    "        print(\"---\")"
   ]
  },
  {
   "cell_type": "markdown",
   "metadata": {
    "id": "PuZAvSlJJpPP"
   },
   "source": [
    "## SAMPLE POST!"
   ]
  },
  {
   "cell_type": "markdown",
   "metadata": {
    "id": "lOEMCrXTJaxW"
   },
   "source": [
    "### Report on the Rise of Context Engineering in the LLM Space in 2025\n",
    "\n",
    "#### Introduction\n",
    "As we move further into 2025, the landscape of artificial intelligence continues to evolve, particularly in the domain of large language models (LLMs). One significant trend emerging is \"context engineering,\" which has begun to outpace the earlier focus on prompt engineering. This report explores how context engineering is reshaping the dynamics of AI usage, enhancing the capabilities of LLMs to perform complex tasks, and ultimately influencing the way users interact with AI technologies.\n",
    "\n",
    "#### The Emergence of Context Engineering\n",
    "In previous years, prompt engineering involved crafting inputs to guide LLMs to generate desired outputs. However, by 2025, the limitations of traditional prompt engineering have become evident, especially as applications require more dynamic interactions and multi-turn dialogues. Context engineering has emerged as a new paradigm, prioritizing the construction of strategies and systems that enable LLMs to access and utilize extensive contextual information effectively.\n",
    "\n",
    "Modern LLMs, such as GPT-4 Turbo and Claude 3, now boast context windows that can handle up to 1 million tokens. This substantial increase allows these models to grasp more extensive content, such as books or lengthy documents, fundamentally changing what they can achieve in real-world applications.\n",
    "\n",
    "#### Key Developments in Context Engineering\n",
    "1. **Dynamic Knowledge Management**: The shift towards context engineering facilitates more sophisticated knowledge management within AI systems. These systems now use persistent memory and adaptive reasoning, enabling them to maintain context across interactions. For example, agent-based LLMs can now engage in workflows requiring multiple exchanges, which is vital for complex applications requiring follow-ups and extended dialogues.\n",
    "\n",
    "2. **Improved Context Lengths**: Advances in transformer architectures have led to the possibility of extending native context lengths dramatically. As a result, LLMs can process larger datasets directly, enhancing their capacity to deliver accurate and relevant outputs without extensive re-prompting.\n",
    "\n",
    "3. **Context Compression and Retrieval**: Techniques such as context compression, where information is stored externally or synthesized to maximize relevance, are gaining traction. Methods identified in recent studies highlight the importance of integrating efficient retrieval systems and summarization techniques to make the most of the available context.\n",
    "\n",
    "4. **The Rise of Multi-Agent Systems**: In 2025, LLM applications are increasingly shifting towards multi-agent architectures, where different AI agents work collaboratively, leveraging various tools and pieces of information to improve output accuracy and reduce operational inefficiencies.\n",
    "\n",
    "#### Impact on AI Usage\n",
    "The implications of context engineering are far-reaching and transformative for users and organizations:\n",
    "\n",
    "- **Enhanced Accuracy**: Enterprises adopting context engineering report accuracy rates of 90-95%, a significant improvement over the 65-75% typically associated with earlier methods. This rise in performance is generating more trust in AI systems across various sectors.\n",
    "\n",
    "- **Faster Deployment and Cost Efficiency**: Organizations employing structured context engineering have demonstrated a 3x increase in the speed of bringing AI solutions to production and a 40% reduction in operational costs compared to traditional prompt-based methodologies.\n",
    "\n",
    "- **Adaptability and Scalability**: Context-engineered systems are inherently more adaptable, allowing businesses to scale AI applications rapidly in response to evolving needs without overhauling the underlying architecture.\n",
    "\n",
    "- **Augmentation of Human Intelligence**: As context engineering allows AI systems to interact in more meaningful ways, they are increasingly positioned as partners in decision-making processes, rather than mere tools. This evolution enhances the collaborative potential between humans and AI.\n",
    "\n",
    "#### Conclusion\n",
    "The rise of context engineering marks a critical turning point in the development and application of LLMs. As AI systems become increasingly capable of managing and utilizing complex contextual information, they are set to enhance user experiences, improve efficiency, and drive new innovations across industries. Organizations that embrace this trend will likely lead the charge into a future where AI is not just a tool for automation but a collaborative partner in problem-solving and creativity."
   ]
  }
 ],
 "metadata": {
  "colab": {
   "provenance": []
  },
  "kernelspec": {
   "display_name": ".venv",
   "language": "python",
   "name": "python3"
  },
  "language_info": {
   "codemirror_mode": {
    "name": "ipython",
    "version": 3
   },
   "file_extension": ".py",
   "mimetype": "text/x-python",
   "name": "python",
   "nbconvert_exporter": "python",
   "pygments_lexer": "ipython3",
   "version": "3.13.2"
  }
 },
 "nbformat": 4,
 "nbformat_minor": 0
}
